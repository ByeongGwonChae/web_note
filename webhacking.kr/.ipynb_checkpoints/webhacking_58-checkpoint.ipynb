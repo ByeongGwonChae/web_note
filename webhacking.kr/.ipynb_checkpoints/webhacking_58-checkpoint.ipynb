{
 "cells": [
  {
   "cell_type": "markdown",
   "metadata": {},
   "source": [
    "# 풀이"
   ]
  },
  {
   "cell_type": "markdown",
   "metadata": {},
   "source": [
    "![58-01](img/58-01.PNG)"
   ]
  },
  {
   "cell_type": "markdown",
   "metadata": {},
   "source": [
    "socket.emit이 클라이언트->서버로 데이터를 보내는 거고,<br>\n",
    "socket.on이 서버->클라이언트로 데이터를 보내는 거라고 생각된다."
   ]
  },
  {
   "cell_type": "markdown",
   "metadata": {},
   "source": [
    "# 풀이"
   ]
  },
  {
   "cell_type": "markdown",
   "metadata": {},
   "source": [
    "![58-02](img/58-02.PNG)"
   ]
  },
  {
   "cell_type": "markdown",
   "metadata": {},
   "source": [
    "socket.emit의 값을 바꿔주면 뭔가 바뀔줄 알았는데 변화가 없다. socket라이브러리는 클라이언트단에서 스크립트를 바꿔도 변화가 없는거 같다."
   ]
  },
  {
   "cell_type": "markdown",
   "metadata": {},
   "source": [
    "대충 서버에는 이런식으로 되어있지 않을까 싶다.<br><br>\n",
    "socket.on('cmd',(msg)=>{<br>\n",
    "    msg = 앞에 username: 때버리는 문자열 조작;\n",
    "    msg += 'command not found';\n",
    "    socket.emit(msg);<br>\n",
    "}<br><br>\n",
    "라고 생각했지만, 이건 쓸모가 있을지 모르겠다."
   ]
  },
  {
   "cell_type": "markdown",
   "metadata": {},
   "source": [
    "![58-03](img/58-03.PNG)"
   ]
  },
  {
   "cell_type": "markdown",
   "metadata": {},
   "source": [
    "오오  드디어 뭔가 변화가 생겼다.<br>\n",
    "ls를 입력하면<br>\n",
    "index.js temp.html<br>\n",
    "라고 출력된다."
   ]
  },
  {
   "cell_type": "markdown",
   "metadata": {},
   "source": [
    "근데 이걸로 접근할 수가 없어서 뭘 할 수 있는지 모르겠다."
   ]
  },
  {
   "cell_type": "markdown",
   "metadata": {},
   "source": [
    "# 포기"
   ]
  },
  {
   "cell_type": "markdown",
   "metadata": {},
   "source": [
    "ls말고도 flag라는 명령어도 있었다고 한다."
   ]
  },
  {
   "cell_type": "markdown",
   "metadata": {},
   "source": [
    "이걸 입력하면 admin이 아니라서 접근할 수 없다고 나오는데,스크립트를 조작해서 입력하면 된다고 한다."
   ]
  },
  {
   "cell_type": "markdown",
   "metadata": {},
   "source": [
    "그런데, 나처럼 겉만 꾸며주는 elements탭에서 하는게 아니라 Console탭에서 바꾸든가 해야되는 거였다."
   ]
  },
  {
   "cell_type": "markdown",
   "metadata": {},
   "source": [
    "var socket = io();socket.emit('cmd','admin:flag'); socket.on('cmd', function(msg) {console.log(msg);});"
   ]
  },
  {
   "cell_type": "markdown",
   "metadata": {},
   "source": [
    "위의 코드를 크롬개발자도구의 console에 입력하면 FLAG가 나온다."
   ]
  }
 ],
 "metadata": {
  "kernelspec": {
   "display_name": "Python 3.7.6 64-bit ('test1': conda)",
   "language": "python",
   "name": "python37664bittest1conda6096207d9ba848ecb47f4c96b52d76b2"
  },
  "language_info": {
   "codemirror_mode": {
    "name": "ipython",
    "version": 3
   },
   "file_extension": ".py",
   "mimetype": "text/x-python",
   "name": "python",
   "nbconvert_exporter": "python",
   "pygments_lexer": "ipython3",
   "version": "3.7.6"
  }
 },
 "nbformat": 4,
 "nbformat_minor": 4
}
