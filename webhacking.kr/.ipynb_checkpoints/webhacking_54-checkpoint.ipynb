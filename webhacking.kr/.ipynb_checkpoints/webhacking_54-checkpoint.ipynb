{
 "cells": [
  {
   "cell_type": "markdown",
   "metadata": {},
   "source": [
    "# 문제"
   ]
  },
  {
   "cell_type": "markdown",
   "metadata": {},
   "source": [
    "![54-01](img/54-01.PNG)"
   ]
  },
  {
   "cell_type": "markdown",
   "metadata": {},
   "source": [
    "window.ActiveXObject가 뭔지도 잘 모르겠지만 화면 움직이는거 봐서는 대충 AJAX같은 용도라고 생각된다.<br>\n",
    "근데 이걸 어떻게 풀지. 설마 selenium을 이용한 AJAX 파싱?"
   ]
  },
  {
   "cell_type": "markdown",
   "metadata": {},
   "source": [
    "# 풀이"
   ]
  },
  {
   "cell_type": "markdown",
   "metadata": {},
   "source": [
    "생각한지 5분만에 풀이법이 떠올랐다. 왜냐하면 54번 문제를 들어오기 바로 직전에 58번 문제를 풀고있었기 때문이지!"
   ]
  },
  {
   "cell_type": "markdown",
   "metadata": {},
   "source": [
    "![54-02](img/54-02.PNG)"
   ]
  },
  {
   "cell_type": "markdown",
   "metadata": {},
   "source": [
    "aview.innerHTML = x.responseText;<br>\n",
    "이 부분이 화면에 출력해주는 부분인데 이 출력 부분을 다음과 같이 바꿔줬을 뿐이다.<br>\n",
    "result += x.response.Text"
   ]
  }
 ],
 "metadata": {
  "kernelspec": {
   "display_name": "Python 3.7.6 64-bit ('test1': conda)",
   "language": "python",
   "name": "python37664bittest1conda6096207d9ba848ecb47f4c96b52d76b2"
  },
  "language_info": {
   "codemirror_mode": {
    "name": "ipython",
    "version": 3
   },
   "file_extension": ".py",
   "mimetype": "text/x-python",
   "name": "python",
   "nbconvert_exporter": "python",
   "pygments_lexer": "ipython3",
   "version": "3.7.6"
  }
 },
 "nbformat": 4,
 "nbformat_minor": 4
}
