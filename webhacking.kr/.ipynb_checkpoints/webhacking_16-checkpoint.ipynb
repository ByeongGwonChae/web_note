{
 "cells": [
  {
   "cell_type": "markdown",
   "metadata": {},
   "source": [
    "# 문제\n",
    "\n",
    "처음 화면이다."
   ]
  },
  {
   "cell_type": "markdown",
   "metadata": {},
   "source": [
    "![16-01](img/16-01.PNG)"
   ]
  },
  {
   "cell_type": "markdown",
   "metadata": {},
   "source": [
    "음.. 대충 봤을 때, 기본적으로 별이 1개 찍혀 있고, script태그가 실행되면서 1개 추가, onload=\"kk(1,1)\"가 실행되면서 또 1개 추가된 걸로 보인다.\n",
    "그 다음으로, 화면 전체에 onkeypress 속성을 줘서 특정 키를 입력하면 mv() 함수가 실행되는 걸로 보인다."
   ]
  },
  {
   "cell_type": "markdown",
   "metadata": {},
   "source": [
    "# mv() 함수 내용\n",
    "\n",
    "기본적으로 키보드의 아무키나 입력해도 mv()가 실행되면서 font태그가 새로 추가되고, 특정 5개의 키를 입력하면 추가로 이벤트가 발생하는 것 같다.\n",
    "<br>\n",
    "문제는 어느 키를 의미하는지는 아스키코드표를 찾아봐야 할 것 같긴 한데, 그래도 97이 'a'를 의미하는건 알고 있다.\n",
    "<br>\n",
    "'a'키를 누르면, star를 왼쪽으로 50만큼 이동하는 걸로 보인다. 그런데, 나머지 키들 중 3개도 이것과 비슷한 코드로 이루어져있다. star를 left,top에서 +,- 50px만큼 이동하는걸로 보이는데, 이거 wasd로 움직이는건가 하고 추측하게 됐다. 그리고 추측이 맞았다."
   ]
  },
  {
   "cell_type": "markdown",
   "metadata": {},
   "source": [
    "![16-02](img/16-02.PNG)"
   ]
  },
  {
   "cell_type": "markdown",
   "metadata": {},
   "source": [
    "방향키 입력받는건 1학년때 테트리스 만들 때 이후로는 처음인거 같은데 되게 재밌다."
   ]
  },
  {
   "cell_type": "markdown",
   "metadata": {},
   "source": [
    "근데 여태까지 정리한건 사실 16번 문제를 푸는데 중요하진 않다.\n",
    "마지막 키 입력 '124' 을 사용했을 때 일어나는 일이 중요하다."
   ]
  },
  {
   "cell_type": "markdown",
   "metadata": {},
   "source": [
    "# 풀이"
   ]
  },
  {
   "cell_type": "markdown",
   "metadata": {},
   "source": [
    "![16-03](img/16-03.PNG)"
   ]
  },
  {
   "cell_type": "markdown",
   "metadata": {},
   "source": [
    "아스키 코드 'a'가 97이고 알파벳 소문자가 24개인가 27개인가 하던걸로 기억하는데 그럼 'z'쯤 되지 않을까 하고 키보드를 눌러봤는데 아닌거 같다."
   ]
  },
  {
   "cell_type": "markdown",
   "metadata": {},
   "source": [
    "사실 124가 뭘 사용했는지는 중요하지 않다. 124키가 눌렸을 때 어디로 리다이렉트가 되는지가 중요하니 말이다."
   ]
  },
  {
   "cell_type": "markdown",
   "metadata": {},
   "source": [
    "![16-04](img/16-04.PNG)"
   ]
  },
  {
   "cell_type": "markdown",
   "metadata": {},
   "source": [
    "리다이렉트 주소를 찾았으니 직접 입력해서 들어가보자"
   ]
  },
  {
   "cell_type": "markdown",
   "metadata": {},
   "source": [
    "![16-05](img/16-05.PNG)"
   ]
  },
  {
   "cell_type": "markdown",
   "metadata": {},
   "source": [
    "성공"
   ]
  }
 ],
 "metadata": {
  "kernelspec": {
   "display_name": "Python 3.7.6 64-bit ('test1': conda)",
   "language": "python",
   "name": "python37664bittest1conda6096207d9ba848ecb47f4c96b52d76b2"
  },
  "language_info": {
   "codemirror_mode": {
    "name": "ipython",
    "version": 3
   },
   "file_extension": ".py",
   "mimetype": "text/x-python",
   "name": "python",
   "nbconvert_exporter": "python",
   "pygments_lexer": "ipython3",
   "version": "3.7.6"
  }
 },
 "nbformat": 4,
 "nbformat_minor": 4
}
