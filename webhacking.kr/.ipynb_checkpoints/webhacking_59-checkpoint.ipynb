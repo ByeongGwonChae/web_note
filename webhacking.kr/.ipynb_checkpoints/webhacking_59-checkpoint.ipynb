{
 "cells": [
  {
   "cell_type": "markdown",
   "metadata": {},
   "source": [
    "# 문제"
   ]
  },
  {
   "cell_type": "markdown",
   "metadata": {},
   "source": [
    "![59-01](img/59-01.PNG)"
   ]
  },
  {
   "cell_type": "markdown",
   "metadata": {},
   "source": [
    "![59-02](img/59-02.PNG)"
   ]
  },
  {
   "cell_type": "markdown",
   "metadata": {},
   "source": [
    "하... 너무 어려운거 아닌가"
   ]
  },
  {
   "cell_type": "markdown",
   "metadata": {},
   "source": [
    "# 분석"
   ]
  },
  {
   "cell_type": "markdown",
   "metadata": {},
   "source": [
    "call59테이블은 3개의 열로 구성된걸로 보인다.\n",
    "\n",
    "| id | phone | lv |\n",
    "\n",
    "문제는 insert 구문에 lv가 guest로 고정된다는 건데 이건 다음과 같이 사용하면 피할 수 있다.\n",
    "\n",
    "~~~\n",
    "insert into chall59 values(        '1',1,'admin'),('2',2,            'guest')\n",
    "~~~\n",
    "\n",
    "다음과 같은 문구를 ip와 phone로 적절히 나눠서 입력하면 될 것 같다.\n",
    "\n",
    "필터링은 주로 admin위주로 걸려있는데 16진수만 필터링 되는거 같아서 2진수 같은걸 사용하면 뚫릴 것 같다.\n",
    "\n",
    "물론 addslashes()가 가장 큰 문제지만 말이다."
   ]
  },
  {
   "cell_type": "markdown",
   "metadata": {},
   "source": [
    "다음은 select구문이다.\n",
    "\n",
    "여기도 adslashes()가 들어가긴 하는데, insert에 1이나 '1'로 입력했기에, insert만 잘한다면 select는 쉽게 넘어갈 수 있을 것이다.\n",
    "\n",
    "근데 phone컬럼은 insert는 그냥 입력받는데 select는 ''가 있는거지?"
   ]
  },
  {
   "cell_type": "markdown",
   "metadata": {},
   "source": [
    "어쨌든 결론."
   ]
  },
  {
   "cell_type": "markdown",
   "metadata": {},
   "source": [
    "# 빠른 포기"
   ]
  },
  {
   "cell_type": "markdown",
   "metadata": {},
   "source": [
    "나 addslash()를 뚫어본 적이 없다."
   ]
  },
  {
   "cell_type": "markdown",
   "metadata": {},
   "source": [
    "어휴 모르는걸 모르면 몇 시간씩 걸리고 그러는데, 모른다는걸 아니까 빨리 포기할 수 있다. 뭐 좋은 일은 아니지만."
   ]
  },
  {
   "cell_type": "markdown",
   "metadata": {},
   "source": [
    "id를 nimda로 주고<br>\n",
    "phone을 1,reverse(id)),(1,1 나 1,reverse(id))-- 로 주면 된다고 한다."
   ]
  },
  {
   "cell_type": "markdown",
   "metadata": {},
   "source": [
    "내가 생각했던 원리랑 비슷하긴한데, lv에 입력하는게 2진수가 아니었다. 아니 근데 insert하는데 다른 column에 입력한 값을 가져올 수 있는 건지를 몰랐다. sql은 정말 알아야하는게 많아야되는거 같다."
   ]
  },
  {
   "cell_type": "markdown",
   "metadata": {},
   "source": [
    "![59-03](img/59-03.PNG)"
   ]
  }
 ],
 "metadata": {
  "kernelspec": {
   "display_name": "Python 3.7.6 64-bit ('test1': conda)",
   "language": "python",
   "name": "python37664bittest1conda6096207d9ba848ecb47f4c96b52d76b2"
  },
  "language_info": {
   "codemirror_mode": {
    "name": "ipython",
    "version": 3
   },
   "file_extension": ".py",
   "mimetype": "text/x-python",
   "name": "python",
   "nbconvert_exporter": "python",
   "pygments_lexer": "ipython3",
   "version": "3.7.6"
  }
 },
 "nbformat": 4,
 "nbformat_minor": 4
}
