{
 "cells": [
  {
   "cell_type": "markdown",
   "metadata": {},
   "source": [
    "# 문제\n",
    "\n",
    "들어가자마자 alert창 하나 띄우고는 webhacking.kr 메인페이지로 리다이렉트 시켜버린다."
   ]
  },
  {
   "cell_type": "markdown",
   "metadata": {},
   "source": [
    "![15-01](img/15-01.PNG)"
   ]
  },
  {
   "cell_type": "markdown",
   "metadata": {},
   "source": [
    "아직 아무것도 안했는데 거부당하기 기분이 사알짝 미묘하다."
   ]
  },
  {
   "cell_type": "markdown",
   "metadata": {},
   "source": [
    "python의 requests모듈을 사용해서 접속해보자."
   ]
  },
  {
   "cell_type": "code",
   "execution_count": 1,
   "metadata": {},
   "outputs": [],
   "source": [
    "import requests"
   ]
  },
  {
   "cell_type": "code",
   "execution_count": 12,
   "metadata": {},
   "outputs": [
    {
     "name": "stdout",
     "output_type": "stream",
     "text": [
      "<html>\n",
      "<head>\n",
      "<title>Challenge 15</title>\n",
      "</head>\n",
      "<body>\n",
      "<script>\n",
      "  alert(\"Access_Denied\");\n",
      "  location.href='/';\n",
      "  document.write(\"<a href=?getFlag>[Get Flag]</a>\");\n",
      "</script>\n",
      "</body>\n",
      "\n"
     ]
    }
   ],
   "source": [
    "r= requests.get('https://webhacking.kr/challenge/js-2/')\n",
    "print(r.text)"
   ]
  },
  {
   "cell_type": "markdown",
   "metadata": {},
   "source": [
    "response 내용을 요약하면 다음과 같다.\n",
    "\n",
    "1. alert창 띄우기\n",
    "2. webhacking.kr/ 로 리다이렉트\n",
    "3. a태그 제작\n",
    "\n",
    "여기서 a태그에 우리가 원하는 주소가 있는데, a태그가 만들어지기 전에 리다이렉트되버려서 우리는 이 주소를 확인할 수 없다. \n",
    "하지만 python으로 주소를 알아냈으니까 브라우저 URL에 다음 주소를 입력하기만 하면 된다."
   ]
  },
  {
   "cell_type": "markdown",
   "metadata": {},
   "source": [
    "![15-02](img/15-02.PNG)"
   ]
  },
  {
   "cell_type": "markdown",
   "metadata": {},
   "source": [
    "예이~"
   ]
  },
  {
   "cell_type": "markdown",
   "metadata": {},
   "source": [
    "뭐처럼이니 python으로도 풀어보도록 하자."
   ]
  },
  {
   "cell_type": "code",
   "execution_count": 11,
   "metadata": {},
   "outputs": [
    {
     "name": "stdout",
     "output_type": "stream",
     "text": [
      "200\n",
      "\n",
      "\n",
      "\n",
      "<script>alert('already solved');</script><html>\n",
      "<head>\n",
      "<title>Challenge 15</title>\n",
      "</head>\n",
      "<body>\n",
      "<script>\n",
      "  alert(\"Access_Denied\");\n",
      "  location.href='/';\n",
      "  document.write(\"<a href=?getFlag>[Get Flag]</a>\");\n",
      "</script>\n",
      "</body>\n",
      "\n"
     ]
    }
   ],
   "source": [
    "with requests.Session() as s:\n",
    "    data = {'id':'new_ch','pw':'0123'}\n",
    "    statuscode = s.post('https://webhacking.kr/login.php/?login', data=data)\n",
    "    print(statuscode.status_code)\n",
    "    \n",
    "    print('\\n\\n')\n",
    "    \n",
    "    r = s.get('https://webhacking.kr/challenge/js-2/?getFlag')\n",
    "    print(r.text)"
   ]
  }
 ],
 "metadata": {
  "kernelspec": {
   "display_name": "Python 3.7.6 64-bit ('test1': conda)",
   "language": "python",
   "name": "python37664bittest1conda6096207d9ba848ecb47f4c96b52d76b2"
  },
  "language_info": {
   "codemirror_mode": {
    "name": "ipython",
    "version": 3
   },
   "file_extension": ".py",
   "mimetype": "text/x-python",
   "name": "python",
   "nbconvert_exporter": "python",
   "pygments_lexer": "ipython3",
   "version": "3.7.6"
  }
 },
 "nbformat": 4,
 "nbformat_minor": 4
}
