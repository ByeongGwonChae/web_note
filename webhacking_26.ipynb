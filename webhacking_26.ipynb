{
 "cells": [
  {
   "cell_type": "markdown",
   "metadata": {},
   "source": [
    "# 문제"
   ]
  },
  {
   "cell_type": "markdown",
   "metadata": {},
   "source": [
    "![26-01](img/26-01.PNG)"
   ]
  },
  {
   "cell_type": "markdown",
   "metadata": {},
   "source": [
    "?id='어드민' 처럼 get방식으로 값을 넘겨서, urldecode()함수를 사용한 값이 'admin'이면 문제가 풀릴 것 같다."
   ]
  },
  {
   "cell_type": "markdown",
   "metadata": {},
   "source": [
    "# 풀이"
   ]
  },
  {
   "cell_type": "markdown",
   "metadata": {},
   "source": [
    "javascript에도 encodeURI() 같은 함수가 있는데, 이걸 써봐도 될 것 같다."
   ]
  },
  {
   "cell_type": "markdown",
   "metadata": {},
   "source": [
    "![26-02](img/26-02.PNG)"
   ]
  },
  {
   "cell_type": "markdown",
   "metadata": {},
   "source": [
    "아닌가 보다..."
   ]
  },
  {
   "cell_type": "markdown",
   "metadata": {},
   "source": [
    "그럼 그냥 php로 해보자."
   ]
  },
  {
   "cell_type": "markdown",
   "metadata": {},
   "source": [
    "![26-03](img/26-03.PNG)"
   ]
  },
  {
   "cell_type": "markdown",
   "metadata": {},
   "source": [
    "내가 생각했던 거랑은 결과가 다르게 나온다."
   ]
  },
  {
   "cell_type": "markdown",
   "metadata": {},
   "source": [
    "남은건 이것저것 막해보는 수밖에 없다."
   ]
  },
  {
   "cell_type": "code",
   "execution_count": 28,
   "metadata": {},
   "outputs": [
    {
     "name": "stdout",
     "output_type": "stream",
     "text": [
      "%61%64%6d%69%6e\n"
     ]
    }
   ],
   "source": [
    "admin_encode = ''\n",
    "for i in 'admin':\n",
    "    admin_encode += '%' + str(hex(ord(i)))[2:]\n",
    "print(admin_encode)"
   ]
  },
  {
   "cell_type": "markdown",
   "metadata": {},
   "source": [
    "python으로 대충 짜보니 드디어 잘 나온다. 이대로 ?id=%61%64%6d%69%6e 를 입력해보자."
   ]
  },
  {
   "attachments": {},
   "cell_type": "markdown",
   "metadata": {},
   "source": [
    "![26-04](img/26-04.PNG)"
   ]
  },
  {
   "cell_type": "markdown",
   "metadata": {},
   "source": [
    "URL에 분명 인코딩한 문자열을 입력했는데, 자동으로 디코딩되서 들어간다. 몰랐던 기능도 아니고, URL은 기본적으로 %인코딩/코딩이 된다는걸 대략 알고는 있었는데, 이걸 문제로 생각하게 되니까 되게 짜증난다."
   ]
  },
  {
   "cell_type": "markdown",
   "metadata": {},
   "source": [
    "이걸 어떻게 뚫을 수 있을까 하고 웹을 뒤적뒤적거리다가 인코딩을디코딩하고인코딩하고 그냥 뇌절 상태로 생각을 비우고 손을 움직이고 있었는데 풀렸다."
   ]
  },
  {
   "cell_type": "markdown",
   "metadata": {},
   "source": [
    "![26-05](img/26-05.PNG)"
   ]
  },
  {
   "cell_type": "markdown",
   "metadata": {},
   "source": [
    "![26-06](img/26-06.PNG)"
   ]
  },
  {
   "cell_type": "markdown",
   "metadata": {},
   "source": [
    "URL인코딩을 2번하고 URL에 집어넣었더니 문제가 풀렸다."
   ]
  },
  {
   "cell_type": "markdown",
   "metadata": {},
   "source": [
    "자동적으로 URL인코딩/디코딩 되는 것은 1번만 되는 것 같다."
   ]
  },
  {
   "cell_type": "markdown",
   "metadata": {},
   "source": []
  },
  {
   "cell_type": "markdown",
   "metadata": {},
   "source": []
  }
 ],
 "metadata": {
  "kernelspec": {
   "display_name": "Python 3.7.6 64-bit ('test1': conda)",
   "language": "python",
   "name": "python37664bittest1conda6096207d9ba848ecb47f4c96b52d76b2"
  },
  "language_info": {
   "codemirror_mode": {
    "name": "ipython",
    "version": 3
   },
   "file_extension": ".py",
   "mimetype": "text/x-python",
   "name": "python",
   "nbconvert_exporter": "python",
   "pygments_lexer": "ipython3",
   "version": "3.7.6"
  }
 },
 "nbformat": 4,
 "nbformat_minor": 4
}
