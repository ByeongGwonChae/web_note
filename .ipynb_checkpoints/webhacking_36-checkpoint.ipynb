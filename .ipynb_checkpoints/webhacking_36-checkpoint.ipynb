{
 "cells": [
  {
   "cell_type": "markdown",
   "metadata": {},
   "source": [
    "# 문제"
   ]
  },
  {
   "attachments": {},
   "cell_type": "markdown",
   "metadata": {},
   "source": [
    "![36-01](img/36-01.PNG)"
   ]
  },
  {
   "cell_type": "markdown",
   "metadata": {},
   "source": [
    "vi에디터로 index.php 편집 중에, 정전이 일어나서 소스코드가 사라졌다고 한다. 그럼 지금 내가 보고있는 페이지는 index.php가 아니라고 말하고 싶은건가.<br>아무튼 문제나 풀어보자."
   ]
  },
  {
   "cell_type": "markdown",
   "metadata": {},
   "source": [
    "# 풀이"
   ]
  },
  {
   "cell_type": "markdown",
   "metadata": {},
   "source": [
    "보통 정전이나 예상치 못한 오류가 발생했을 때를 대비해서 많은 프로그램이 복구가 가능하도록 임시파일을 만들어놓는 경우가 많다.<br>\n",
    "한글,엑셀 같은 편집기도 그렇고, 크롬 또한 그런 기능이 존재한다."
   ]
  },
  {
   "cell_type": "markdown",
   "metadata": {},
   "source": [
    "근데 프로그램마다 방식이 달라서 vi는 잘 모르겠다.<br>\n",
    "구글링 좀 해봤는데 R이나 vi -r을 입력하면 된다고 한다."
   ]
  },
  {
   "cell_type": "raw",
   "metadata": {},
   "source": [
    "근데 이걸로 어떻게 문제를 풀지. 특정 저장하는 장소를 찾아야되나."
   ]
  },
  {
   "cell_type": "markdown",
   "metadata": {},
   "source": [
    "/tmp 폴더는 재부팅하면 전부 날라가는 걸로 알고 있어서 tmp는 아니라고 생각한다."
   ]
  },
  {
   "cell_type": "markdown",
   "metadata": {},
   "source": [
    "# 포기"
   ]
  },
  {
   "cell_type": "markdown",
   "metadata": {},
   "source": [
    "아예 모르는 파일이기에, 실력으로 푸는게 아니기에, 알 수 있는 방법이 구글링 밖에 없기에, 그럴꺼면 그냥 다른사람 풀이 찾아보는게 구글링이랑 차이가 없기에, 그냥 다른 사람 풀이를 찾아보기로 한다."
   ]
  },
  {
   "cell_type": "markdown",
   "metadata": {},
   "source": [
    "vi에디터는 .원본파일.swp 라는 형식으로 저장되는 것 같다. 원본파일이 있는 폴더에 숨긴파일로서 말이다.<br>이런 swp파일을 스왑파일 이라고 한다고 한다."
   ]
  },
  {
   "cell_type": "markdown",
   "metadata": {},
   "source": [
    "즉, URL에 .index.php.swp 라고 입려갛면 이 임시파일이 다운받아지고 내용을 볼 수 있다. 안에 Flag값이 들어있었다."
   ]
  }
 ],
 "metadata": {
  "kernelspec": {
   "display_name": "Python 3.7.6 64-bit ('test1': conda)",
   "language": "python",
   "name": "python37664bittest1conda6096207d9ba848ecb47f4c96b52d76b2"
  },
  "language_info": {
   "codemirror_mode": {
    "name": "ipython",
    "version": 3
   },
   "file_extension": ".py",
   "mimetype": "text/x-python",
   "name": "python",
   "nbconvert_exporter": "python",
   "pygments_lexer": "ipython3",
   "version": "3.7.6"
  }
 },
 "nbformat": 4,
 "nbformat_minor": 4
}
