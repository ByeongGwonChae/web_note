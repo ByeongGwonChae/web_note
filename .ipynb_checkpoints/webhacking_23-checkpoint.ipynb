{
 "cells": [
  {
   "cell_type": "markdown",
   "metadata": {},
   "source": [
    "# 문제"
   ]
  },
  {
   "cell_type": "markdown",
   "metadata": {},
   "source": [
    "![23-01](img/23-01.PNG)"
   ]
  },
  {
   "cell_type": "markdown",
   "metadata": {},
   "source": [
    "오. XSS이다. 웹해킹을 처음 공부할때 반드시 나온다는 SQL인젝션과 XSS 중에 xss다."
   ]
  },
  {
   "cell_type": "markdown",
   "metadata": {},
   "source": [
    "# 풀이"
   ]
  },
  {
   "cell_type": "markdown",
   "metadata": {},
   "source": [
    "일단 나와있는 태그를 그대로 써보자."
   ]
  },
  {
   "cell_type": "markdown",
   "metadata": {},
   "source": [
    "![23-02](img/23-02.PNG)"
   ]
  },
  {
   "cell_type": "markdown",
   "metadata": {},
   "source": [
    "역시 막혔다. 그럼 다음은 <>를 &lt;, &gt;바꿔서 입력해보자."
   ]
  },
  {
   "cell_type": "markdown",
   "metadata": {},
   "source": [
    "![23-03](img/23-03.PNG)"
   ]
  },
  {
   "cell_type": "markdown",
   "metadata": {},
   "source": [
    "안된다. 아 근데 &lt;, &gt;는 필터링용이었었나? 필터링 우회용이었었나?"
   ]
  },
  {
   "cell_type": "markdown",
   "metadata": {},
   "source": [
    "필터링이 어떻게 걸린지 모르겠으니 이것저것 해봤는데 문자가 2개 이상 합쳐지면 필터링된다는 것을 알았다.<br>\n",
    "예를 들어, sc나 er, rt 등이 필터링 된다.<br>\n",
    "이건 xss문제라기 보기에는 무리가 있고, 그냥 문자열 다루는 것 관련 문제로 보인다.<br>\n",
    "다른 필터링이 있을지도 모르지만 일단 이것부터 뚫는걸 해보자."
   ]
  },
  {
   "cell_type": "markdown",
   "metadata": {},
   "source": [
    "생각나는 것은 2가지 정도다\n",
    "\n",
    "1. 두 문자 중간에 null문자 같은거를 끼워넣기\n",
    "2. <를 &lt;로 바꾸는 것처럼 문자열 전체를 변환하기"
   ]
  },
  {
   "cell_type": "markdown",
   "metadata": {},
   "source": [
    "일단 첫번째:<br>\n",
    "sql인젝션을 할 때 공백문자가 필터링된 경우, 다음과 같은 문자로 변환 가능하다.<br>\n",
    "' ' → /**/, %09, %0a, %0b, %0c, %0d, %a0, +, %20<br>\n",
    "다음과 같은 문자들을 아래와 같이 변환해서 하나씩 넣어봤다.\n",
    "<s+c+r+i+p+t>a+l+e+r+t(1);</s+c+r+i+p+t>"
   ]
  },
  {
   "cell_type": "markdown",
   "metadata": {},
   "source": [
    "![23-04](img/23-04.PNG)"
   ]
  },
  {
   "cell_type": "markdown",
   "metadata": {},
   "source": [
    "다 안된다ㅠㅠ. 다 공백문자인줄 알았는데 뭔가 문자가 있긴 있었다. 그럼 마지막으로 null문자(%00)를 해보자"
   ]
  },
  {
   "cell_type": "markdown",
   "metadata": {},
   "source": [
    "![23-05](img/23-05.PNG)"
   ]
  },
  {
   "attachments": {},
   "cell_type": "markdown",
   "metadata": {},
   "source": [
    "![23-06](img/23-06.PNG)"
   ]
  },
  {
   "cell_type": "markdown",
   "metadata": {},
   "source": [
    "성공했다."
   ]
  },
  {
   "cell_type": "markdown",
   "metadata": {},
   "source": [
    "휴. 두 번째 방식을 시도해보려니까 생각나는게 없어서 구글링으로 풀이찾으려고 했는데, 오랜만에 내 머리가 멋진 생각을 해냈구나."
   ]
  }
 ],
 "metadata": {
  "kernelspec": {
   "display_name": "Python 3.7.6 64-bit ('test1': conda)",
   "language": "python",
   "name": "python37664bittest1conda6096207d9ba848ecb47f4c96b52d76b2"
  },
  "language_info": {
   "codemirror_mode": {
    "name": "ipython",
    "version": 3
   },
   "file_extension": ".py",
   "mimetype": "text/x-python",
   "name": "python",
   "nbconvert_exporter": "python",
   "pygments_lexer": "ipython3",
   "version": "3.7.6"
  }
 },
 "nbformat": 4,
 "nbformat_minor": 4
}
