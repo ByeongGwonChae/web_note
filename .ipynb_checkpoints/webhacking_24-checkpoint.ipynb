{
 "cells": [
  {
   "cell_type": "markdown",
   "metadata": {},
   "source": [
    "# 문제"
   ]
  },
  {
   "attachments": {},
   "cell_type": "markdown",
   "metadata": {},
   "source": [
    "![24-01](img/24-01.PNG)"
   ]
  },
  {
   "cell_type": "markdown",
   "metadata": {},
   "source": [
    "php의 extract 함수는 배열의 요소를 각각의 변수로 만들어주는 기능이다.\n",
    "\n",
    "$_SERVER에는 클라이언트의 IP를 포함한 여러 정보들이 들어있고 $_COOKIE는 쿠키값들이 들어갈 것이다.\n",
    "\n",
    "이번 문제에 대해 요약하자면 이렇다.\n",
    "\n",
    "1. $IP에는 자신의 IP로 초기화한다.\n",
    "1. $IP에 문자열 조작을 행한다.\n",
    "1. $IP가 \"127.0.0.1\"이라면 문제가 풀린다."
   ]
  },
  {
   "cell_type": "markdown",
   "metadata": {},
   "source": [
    "여기서 우리가 해야할 것은 2가지다.\n",
    "\n",
    "1. $IP 변수의 값을 우리가 변경할 수 있어야 한다.\n",
    "1. 문자열 조작 후에 127.0.0.1이 나오도록, $IP를 잘 변경해야한다. "
   ]
  },
  {
   "cell_type": "markdown",
   "metadata": {},
   "source": [
    "# 풀이"
   ]
  },
  {
   "cell_type": "markdown",
   "metadata": {},
   "source": [
    "$IP를 변경하는 방법은 금방 알았다.\n",
    "\n",
    "1. $_SERVER[REMOTE_ADDR]와 $_COOKIE[REMOTE_ADDR]가 있다고 가정하자.\n",
    "1. 우선 extract($_SERVER)가 실행되고 $REMOTE_ADDR=\"내 IP\" 라는 변수가 생성될 것이다.\n",
    "1. 그 다음 extract($_COOKIE)가 실행되면, 이라는 변수가 생성된다.\n",
    "1. 즉, $REMOTE_ADDR=\"내 IP\"라는 변수가 $REMOTE_ADDR=\"쿠키값\" 에게 덮어씌워진다는 것이다.\n",
    "\n",
    "그러므로 우리가 할 일은 REMOTE_ADDR이라는 쿠키를 생성하는 것이다."
   ]
  },
  {
   "cell_type": "markdown",
   "metadata": {},
   "source": [
    "![24-02](img/24-02.PNG)"
   ]
  },
  {
   "cell_type": "markdown",
   "metadata": {},
   "source": [
    "쿠키값을 이용한 IP변조를 성공했다."
   ]
  },
  {
   "cell_type": "markdown",
   "metadata": {},
   "source": [
    "다음은 이 값을 필터링을 거쳐서 127.0.0.1로 만드는 것이다. 근데 대충보기에도 일방향 함수들이라서 복호화방법이 생각나질 않는다.<br>\n",
    "일단 직접 손으로 만들어보고, 정 안되면 다른 방법을 모색해보자."
   ]
  },
  {
   "cell_type": "markdown",
   "metadata": {},
   "source": [
    "![24-03](img/24-03.PNG)"
   ]
  },
  {
   "cell_type": "markdown",
   "metadata": {},
   "source": [
    "일단 맨 앞은 성공했다."
   ]
  },
  {
   "cell_type": "markdown",
   "metadata": {},
   "source": [
    "![24-04](img/24-04.PNG)"
   ]
  },
  {
   "cell_type": "markdown",
   "metadata": {},
   "source": [
    "오오 3번만에 성공했다."
   ]
  },
  {
   "cell_type": "markdown",
   "metadata": {},
   "source": [
    "생각보다 빨리 풀린 것 같다. 그래도 1시간이 걸렸지만."
   ]
  }
 ],
 "metadata": {
  "kernelspec": {
   "display_name": "Python 3.7.6 64-bit ('test1': conda)",
   "language": "python",
   "name": "python37664bittest1conda6096207d9ba848ecb47f4c96b52d76b2"
  },
  "language_info": {
   "codemirror_mode": {
    "name": "ipython",
    "version": 3
   },
   "file_extension": ".py",
   "mimetype": "text/x-python",
   "name": "python",
   "nbconvert_exporter": "python",
   "pygments_lexer": "ipython3",
   "version": "3.7.6"
  }
 },
 "nbformat": 4,
 "nbformat_minor": 4
}
