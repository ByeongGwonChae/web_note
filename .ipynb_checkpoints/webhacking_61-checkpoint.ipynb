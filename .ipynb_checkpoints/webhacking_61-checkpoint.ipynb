{
 "cells": [
  {
   "cell_type": "markdown",
   "metadata": {},
   "source": [
    "# 문제"
   ]
  },
  {
   "cell_type": "markdown",
   "metadata": {},
   "source": [
    "![61-01](img/61-01.PNG)"
   ]
  },
  {
   "cell_type": "markdown",
   "metadata": {},
   "source": [
    "이번 문제는 좀 특이하게 Column명을 GET방식으로 얻는다."
   ]
  },
  {
   "cell_type": "markdown",
   "metadata": {},
   "source": [
    "![61-02](img/61-02.PNG)"
   ]
  },
  {
   "cell_type": "markdown",
   "metadata": {},
   "source": [
    "id에 admin을 입력하면 아무것도 출력이 안되고, select문에 유일하게 나온 column인 id를 입력하면 위의 이미지와 같은 결과가 나온다."
   ]
  },
  {
   "cell_type": "markdown",
   "metadata": {},
   "source": [
    "# 풀이"
   ]
  },
  {
   "cell_type": "markdown",
   "metadata": {},
   "source": [
    "내가 할 줄 아는 몇 안되는 SQLi 중에 포함되는 문제다. 사실 1주 전쯤에 한 번 풀어봤던 거라서 아는 거다. 별칭인가 하는걸 이용하는 것이였다."
   ]
  },
  {
   "cell_type": "markdown",
   "metadata": {},
   "source": [
    "다음과 같이 사용된다.\n",
    "\n",
    "~~~\n",
    "\"admin\" as id\n",
    "~~~\n",
    "\n",
    "그러나 중간에 addslashes()가 있어서 2진수나 16진수로 변환시켜야 한다."
   ]
  },
  {
   "cell_type": "code",
   "execution_count": 11,
   "metadata": {},
   "outputs": [
    {
     "name": "stdout",
     "output_type": "stream",
     "text": [
      "0x61646d696e\n"
     ]
    }
   ],
   "source": [
    "import binascii\n",
    "print('0x'+binascii.hexlify('admin'.encode()).decode())"
   ]
  },
  {
   "cell_type": "markdown",
   "metadata": {},
   "source": [
    "그리고 글자수 15 제한 때문에 2진수는 안되고 16진수로 변환시킨다음에 as도 제거해야된다.\n",
    "\n",
    "전에 풀었을 때는 as까지 써도 넉넉했던걸로 기억하는데 문제가 좀 변경된거 같다."
   ]
  },
  {
   "cell_type": "markdown",
   "metadata": {},
   "source": [
    "![61-03](img/61-03.PNG)"
   ]
  }
 ],
 "metadata": {
  "kernelspec": {
   "display_name": "Python 3.7.6 64-bit ('test1': conda)",
   "language": "python",
   "name": "python37664bittest1conda6096207d9ba848ecb47f4c96b52d76b2"
  },
  "language_info": {
   "codemirror_mode": {
    "name": "ipython",
    "version": 3
   },
   "file_extension": ".py",
   "mimetype": "text/x-python",
   "name": "python",
   "nbconvert_exporter": "python",
   "pygments_lexer": "ipython3",
   "version": "3.7.6"
  }
 },
 "nbformat": 4,
 "nbformat_minor": 4
}
