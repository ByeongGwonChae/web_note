{
 "cells": [
  {
   "attachments": {},
   "cell_type": "markdown",
   "metadata": {},
   "source": [
    "# 문제"
   ]
  },
  {
   "cell_type": "markdown",
   "metadata": {},
   "source": [
    "![19-01](img/19-01.PNG)"
   ]
  },
  {
   "cell_type": "markdown",
   "metadata": {},
   "source": [
    "![19-02](img/19-02.PNG)"
   ]
  },
  {
   "cell_type": "markdown",
   "metadata": {},
   "source": [
    "정보가 너무 적다. python으로 request를 보내보자."
   ]
  },
  {
   "cell_type": "code",
   "execution_count": 1,
   "metadata": {},
   "outputs": [],
   "source": [
    "import requests"
   ]
  },
  {
   "cell_type": "code",
   "execution_count": 2,
   "metadata": {},
   "outputs": [
    {
     "name": "stdout",
     "output_type": "stream",
     "text": [
      "200\n",
      "\n",
      "\n",
      "\n",
      "<html>\n",
      "<head>\n",
      "<title>Challenge 19</title>\n",
      "<style type=\"text/css\">\n",
      "body { background:black; color:white; font-size:10pt; }\n",
      "input { background:silver; color:black; font-size:9pt; }\n",
      "</style>\n",
      "</head>\n",
      "<body>\n",
      "you are not admin<meta http-equiv=refresh content=3;url=./>\n"
     ]
    }
   ],
   "source": [
    "with requests.Session() as s:\n",
    "    data = {'id':'new_ch','pw':'0123'}\n",
    "    statuscode = s.post('https://webhacking.kr/login.php/?login', data=data)\n",
    "    print(statuscode.status_code)\n",
    "    \n",
    "    print('\\n\\n')\n",
    "    \n",
    "    r = s.get('https://webhacking.kr/challenge/js-6/?id=admin')\n",
    "    print(r.text)"
   ]
  },
  {
   "cell_type": "markdown",
   "metadata": {},
   "source": [
    "python으로도 딱히 얻을게 없는 것 같다."
   ]
  },
  {
   "cell_type": "markdown",
   "metadata": {},
   "source": [
    "admin말고 임의의 값을 넣어보자."
   ]
  },
  {
   "cell_type": "markdown",
   "metadata": {},
   "source": [
    "![19-03](img/19-03.PNG)"
   ]
  },
  {
   "cell_type": "markdown",
   "metadata": {},
   "source": [
    "화면이 변했지만 여기도 크게 볼건 없어 보인다.\n",
    "다음은 ?logout=1을 확인해보자"
   ]
  },
  {
   "cell_type": "code",
   "execution_count": 5,
   "metadata": {},
   "outputs": [
    {
     "name": "stdout",
     "output_type": "stream",
     "text": [
      "200\n",
      "\n",
      "\n",
      "\n",
      "<meta http-equiv=refresh content=0;url=./>\n"
     ]
    }
   ],
   "source": [
    "with requests.Session() as s:\n",
    "    data = {'id':'new_ch','pw':'0123'}\n",
    "    statuscode = s.post('https://webhacking.kr/login.php/?login', data=data)\n",
    "    print(statuscode.status_code)\n",
    "    \n",
    "    print('\\n\\n')\n",
    "    \n",
    "    r = s.get('https://webhacking.kr/challenge/js-6/?logout=1')\n",
    "    print(r.text)"
   ]
  },
  {
   "cell_type": "markdown",
   "metadata": {},
   "source": [
    "다시 처음으로 돌아간다. 그럼 logout을 1이 아닌 값을 넣어보자."
   ]
  },
  {
   "cell_type": "code",
   "execution_count": 13,
   "metadata": {},
   "outputs": [
    {
     "name": "stdout",
     "output_type": "stream",
     "text": [
      "200\n",
      "\n",
      "\n",
      "\n",
      "0 <html>\n",
      "<head>\n",
      "<title>Challenge 19</title>\n",
      "<style type=\"text/css\">\n",
      "body { background:black; color:white; font-size:10pt; }\n",
      "input { background:silver; color:black; font-size:9pt; }\n",
      "</style>\n",
      "</head>\n",
      "<body>\n",
      "<form>\n",
      "id : <input type=text name=id value='admin' maxlength=5 size=5>\n",
      "<input type=submit>\n",
      "</form>\n",
      "</body>\n",
      "</html>\n",
      "\n",
      "1 <meta http-equiv=refresh content=0;url=./>\n",
      "2 <html>\n",
      "<head>\n",
      "<title>Challenge 19</title>\n",
      "<style type=\"text/css\">\n",
      "body { background:black; color:white; font-size:10pt; }\n",
      "input { background:silver; color:black; font-size:9pt; }\n",
      "</style>\n",
      "</head>\n",
      "<body>\n",
      "<form>\n",
      "id : <input type=text name=id value='admin' maxlength=5 size=5>\n",
      "<input type=submit>\n",
      "</form>\n",
      "</body>\n",
      "</html>\n",
      "\n"
     ]
    }
   ],
   "source": [
    "with requests.Session() as s:\n",
    "    data = {'id':'new_ch','pw':'0123'}\n",
    "    statuscode = s.post('https://webhacking.kr/login.php/?login', data=data)\n",
    "    print(statuscode.status_code)\n",
    "    \n",
    "    print('\\n\\n')\n",
    "    for i in range(0,3):\n",
    "        r = s.get('https://webhacking.kr/challenge/js-6/?logout='+str(i))\n",
    "        print(i, r.text)"
   ]
  },
  {
   "cell_type": "markdown",
   "metadata": {},
   "source": [
    "?logout=1은 별 상관이 없는거 같다."
   ]
  },
  {
   "cell_type": "markdown",
   "metadata": {},
   "source": [
    "크롬-개발자도구-Application-쿠키 에서 임의로 접속한 후 만들어진 user_id를 삭제해서 세션을 끊는다."
   ]
  },
  {
   "cell_type": "markdown",
   "metadata": {},
   "source": []
  },
  {
   "cell_type": "markdown",
   "metadata": {},
   "source": []
  },
  {
   "cell_type": "markdown",
   "metadata": {},
   "source": []
  },
  {
   "cell_type": "markdown",
   "metadata": {},
   "source": []
  },
  {
   "cell_type": "markdown",
   "metadata": {},
   "source": []
  },
  {
   "cell_type": "markdown",
   "metadata": {},
   "source": []
  },
  {
   "cell_type": "markdown",
   "metadata": {},
   "source": []
  }
 ],
 "metadata": {
  "kernelspec": {
   "display_name": "Python 3.7.6 64-bit ('test1': conda)",
   "language": "python",
   "name": "python37664bittest1conda6096207d9ba848ecb47f4c96b52d76b2"
  },
  "language_info": {
   "codemirror_mode": {
    "name": "ipython",
    "version": 3
   },
   "file_extension": ".py",
   "mimetype": "text/x-python",
   "name": "python",
   "nbconvert_exporter": "python",
   "pygments_lexer": "ipython3",
   "version": "3.7.6"
  }
 },
 "nbformat": 4,
 "nbformat_minor": 4
}
