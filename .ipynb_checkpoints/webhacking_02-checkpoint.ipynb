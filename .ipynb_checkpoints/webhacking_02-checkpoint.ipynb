{
 "cells": [
  {
   "cell_type": "markdown",
   "metadata": {},
   "source": [
    "# 문제\n",
    "\n",
    "1. $val_id와 $val_id 변수를 \"guest\"와 \"123qwe\"로 초기화한다.\n",
    "2. 두 변수를 암호화한 값을 user와 password쿠키에 각각 넣는다.\n",
    "3. 두 쿠키를 복호화한 값이 \"admin\"과 \"nimda\"라면 문제가 풀린다.\n",
    "\n",
    "문제가 원하는 것은 base64인코딩이랑 문자열 조작을 다룰줄 아는 것과 쿠키값을 변조할 수 있을 것 으로 생각된다."
   ]
  },
  {
   "cell_type": "markdown",
   "metadata": {},
   "source": [
    "# 풀이\n",
    "\n",
    "결론은 \"admin\"과 \"nimda\" 문자열을 암호화해서 쿠키에 넣어주면 되는 일이다.\n",
    "아래 이미지가 암호화 과정인데,"
   ]
  },
  {
   "cell_type": "markdown",
   "metadata": {},
   "source": [
    "![06-01](img/06-01.PNG)"
   ]
  },
  {
   "cell_type": "markdown",
   "metadata": {},
   "source": [
    "1. 이 코드를 그대로 php 테스트 사이트에 복사한 다음, 변수값만 \"admin\"과 \"nimda\"로 변경시키고 실행시킨다."
   ]
  },
  {
   "cell_type": "markdown",
   "metadata": {},
   "source": [
    "![06-02](img/06-02.PNG)"
   ]
  },
  {
   "cell_type": "markdown",
   "metadata": {},
   "source": [
    "1. 크롬 개발자 도구로 원하는 쿠키값을 찾은 다음, 아까 얻은 결과값을 Value에 넣어준다."
   ]
  },
  {
   "cell_type": "markdown",
   "metadata": {},
   "source": [
    "![06-03](img/06-03.PNG)"
   ]
  },
  {
   "cell_type": "markdown",
   "metadata": {},
   "source": [
    "1. 마지막으로 새로고침 한 번 해주면 문제가 풀린다."
   ]
  },
  {
   "cell_type": "markdown",
   "metadata": {},
   "source": [
    "![06-04](img/06-04.PNG)"
   ]
  },
  {
   "cell_type": "markdown",
   "metadata": {},
   "source": [
    "![06-05](img/06-05.PNG)"
   ]
  }
 ],
 "metadata": {
  "kernelspec": {
   "display_name": "Python 3.7.6 64-bit ('test1': conda)",
   "language": "python",
   "name": "python37664bittest1conda6096207d9ba848ecb47f4c96b52d76b2"
  },
  "language_info": {
   "codemirror_mode": {
    "name": "ipython",
    "version": 3
   },
   "file_extension": ".py",
   "mimetype": "text/x-python",
   "name": "python",
   "nbconvert_exporter": "python",
   "pygments_lexer": "ipython3",
   "version": "3.7.6"
  }
 },
 "nbformat": 4,
 "nbformat_minor": 4
}
