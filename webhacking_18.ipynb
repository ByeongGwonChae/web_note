{
 "cells": [
  {
   "cell_type": "markdown",
   "metadata": {},
   "source": [
    "# 문제\n",
    "\n",
    "오 SQL인젝션이다."
   ]
  },
  {
   "cell_type": "markdown",
   "metadata": {},
   "source": [
    "![18-01](img/18-01.PNG)"
   ]
  },
  {
   "cell_type": "markdown",
   "metadata": {},
   "source": [
    "헷. 모르겠다."
   ]
  },
  {
   "cell_type": "markdown",
   "metadata": {},
   "source": [
    "아니 이미 id가 'guest'라고 떡하니 적혀 있잖아.\n",
    "sql문에 no가 없다고해도 'admin'이 절대 나올리가 없는데 어떡하란 거야?\n",
    "전혀 논리적이지 않잖아 (절레절레)"
   ]
  },
  {
   "cell_type": "markdown",
   "metadata": {},
   "source": [
    "일단 실제로 입력을 해서, 정보 수집부터 해보자."
   ]
  },
  {
   "cell_type": "markdown",
   "metadata": {},
   "source": [
    "# 정보 수집"
   ]
  },
  {
   "cell_type": "markdown",
   "metadata": {},
   "source": [
    "![18-02](img/18-02.PNG)"
   ]
  },
  {
   "cell_type": "markdown",
   "metadata": {},
   "source": [
    "1을 입력하면 hi guest가 나온다.\n",
    "그 외의 값은 입력해도 아무 변화가 없다."
   ]
  },
  {
   "cell_type": "markdown",
   "metadata": {},
   "source": [
    "위의 내용과 admin's no=2 라는 주석을 봤을 때, DB테이블이 이렇게 구성되었을거라 생각된다.\n",
    "\n",
    "|id|no|\n",
    "|---|---|\n",
    "|guest|1|\n",
    "|admin|2|"
   ]
  },
  {
   "cell_type": "markdown",
   "metadata": {},
   "source": [
    "# 풀이"
   ]
  },
  {
   "cell_type": "markdown",
   "metadata": {},
   "source": [
    "일단 전혀 안될거 같지만 no=1 or 1=1 같은거라도 해볼까,\n",
    "<br>\n",
    "공백은 필터링 되어 있으니까 %09를 사용해서."
   ]
  },
  {
   "cell_type": "markdown",
   "metadata": {},
   "source": [
    "![18-03](img/18-03.PNG)"
   ]
  },
  {
   "cell_type": "markdown",
   "metadata": {},
   "source": [
    "라고 생각했지만 True만 넣어봤는데 뚫렸다. <br>하지만 실패했다.<br>역시 이 방법은 아니었던거 같다."
   ]
  },
  {
   "cell_type": "markdown",
   "metadata": {},
   "source": [
    "order by    는 결과가 많아야 되고,<br>\n",
    "groyb by ~ having    도 결과가 많거나, 에러메시지 출력할 때 사용하는 거고,<br>\n",
    "전혀 다른 쿼리 결과를 얻어야 하는거니까 union을 써야할거 같은데, 그러면 select랑 from을 필터링 피하기만 하면 되는데.<br>\n",
    "1 union select 'admin' AS id ORDER BY id ASC 나<br>\n",
    "1 union select 'admin' AS id ORDER BY id DESC 정도면 될 것 같았는데, select가 필터링 되었구나."
   ]
  },
  {
   "cell_type": "markdown",
   "metadata": {},
   "source": [
    "흠...."
   ]
  },
  {
   "cell_type": "markdown",
   "metadata": {},
   "source": [
    "아니 잠깐 근데 필터링에 select랑 from은 소문자만 막는건가?"
   ]
  },
  {
   "cell_type": "markdown",
   "metadata": {},
   "source": [
    "![18-04](img/18-04.PNG)"
   ]
  },
  {
   "cell_type": "markdown",
   "metadata": {},
   "source": [
    "![18-05](img/18-05.PNG)"
   ]
  },
  {
   "cell_type": "markdown",
   "metadata": {},
   "source": [
    "아니네. 둘 다 막아버리는구나. php는 대소문자를 따로따로 막아야되는거 아니었나?"
   ]
  },
  {
   "cell_type": "markdown",
   "metadata": {},
   "source": [
    "흠.................."
   ]
  },
  {
   "cell_type": "markdown",
   "metadata": {},
   "source": [
    "그럼 select 자체를 이진수로 바꿔서 때려본다거나.<br>\n",
    "1+union+0b011100110110010101101100011001010110001101110100+'admin'+AS+id+ORDER+BY+id+DESC"
   ]
  },
  {
   "cell_type": "markdown",
   "metadata": {},
   "source": [
    "![18-06](img/18-06.PNG)"
   ]
  },
  {
   "cell_type": "markdown",
   "metadata": {},
   "source": [
    "될리가 없죠~ㅠㅠ"
   ]
  },
  {
   "cell_type": "markdown",
   "metadata": {},
   "source": [
    "select 필터링 우회에 대해 구글링해도 나오는게 없는데.<br>\n",
    "select를 쓰지 않고 union만 쓸 수 있나? 그런건 들어본적이 없는데."
   ]
  },
  {
   "cell_type": "markdown",
   "metadata": {},
   "source": [
    "도저히 모르겠다. 내 실력으론 못풀거 같은데, 너무 화가 난다. 풀이법을 한 번 봐야겠다."
   ]
  },
  {
   "cell_type": "markdown",
   "metadata": {},
   "source": [
    "# 포기"
   ]
  },
  {
   "cell_type": "markdown",
   "metadata": {},
   "source": [
    "![18-07](img/18-07.PNG)"
   ]
  },
  {
   "cell_type": "markdown",
   "metadata": {},
   "source": [
    "Holy....... \n",
    "그건가. id='guest' and no=(1 or no=2) 는 결과가 'guest' 랑 'admin' 둘 다 나오는데, id='guest' and no=-1로 해버리면 False or no=2가 되어서 'admin'만 나오는 건가.\n",
    "하... 간단한 거였는데, 내 자신이 너무 한심해 지는 순간이다."
   ]
  },
  {
   "cell_type": "markdown",
   "metadata": {},
   "source": []
  },
  {
   "cell_type": "markdown",
   "metadata": {},
   "source": []
  },
  {
   "cell_type": "markdown",
   "metadata": {},
   "source": []
  }
 ],
 "metadata": {
  "kernelspec": {
   "display_name": "Python 3.7.6 64-bit ('test1': conda)",
   "language": "python",
   "name": "python37664bittest1conda6096207d9ba848ecb47f4c96b52d76b2"
  },
  "language_info": {
   "codemirror_mode": {
    "name": "ipython",
    "version": 3
   },
   "file_extension": ".py",
   "mimetype": "text/x-python",
   "name": "python",
   "nbconvert_exporter": "python",
   "pygments_lexer": "ipython3",
   "version": "3.7.6"
  }
 },
 "nbformat": 4,
 "nbformat_minor": 4
}
