{
 "cells": [
  {
   "cell_type": "markdown",
   "metadata": {},
   "source": [
    "# 문제"
   ]
  },
  {
   "attachments": {},
   "cell_type": "markdown",
   "metadata": {},
   "source": [
    "![25-01](img/25-01.PNG)"
   ]
  },
  {
   "cell_type": "markdown",
   "metadata": {},
   "source": [
    "소스코드에는 별게 없는 것 같고, URL에 file=hello이 눈에 띈다. ?file= 에 3개의 파일명을 입력하면 textarea에 그 내용이 나오는 것 같다. 맨 위에 total 20이 좀 맘에 걸리지만 ?file= 에 하나씩 입력해보자."
   ]
  },
  {
   "attachments": {},
   "cell_type": "markdown",
   "metadata": {},
   "source": [
    "![25-02](img/25-02.PNG)"
   ]
  },
  {
   "cell_type": "markdown",
   "metadata": {},
   "source": [
    "![25-03](img/25-03.PNG)"
   ]
  },
  {
   "cell_type": "markdown",
   "metadata": {},
   "source": [
    "그야 코드 어딘가엔 답이 있겠죠... 그게 어디인지는 안알려주시나요..."
   ]
  },
  {
   "cell_type": "markdown",
   "metadata": {},
   "source": [
    "![25-04](img/25-04.PNG)"
   ]
  },
  {
   "cell_type": "raw",
   "metadata": {},
   "source": [
    "까비 이건 아니네."
   ]
  },
  {
   "cell_type": "code",
   "execution_count": 2,
   "metadata": {},
   "outputs": [],
   "source": [
    "import requests"
   ]
  },
  {
   "cell_type": "code",
   "execution_count": 17,
   "metadata": {},
   "outputs": [
    {
     "name": "stdout",
     "output_type": "stream",
     "text": [
      "{'User-Agent': 'python-requests/2.23.0', 'Accept-Encoding': 'gzip, deflate', 'Accept': '*/*', 'Connection': 'keep-alive'}\n",
      "{'Date': 'Thu, 09 Apr 2020 13:36:29 GMT', 'Server': 'Apache/2.4.29 (Ubuntu)', 'Vary': 'Accept-Encoding', 'Content-Encoding': 'gzip', 'Content-Length': '327', 'Keep-Alive': 'timeout=5, max=100', 'Connection': 'Keep-Alive', 'Content-Type': 'text/html; charset=UTF-8'}\n",
      "\n",
      "\n",
      "{'User-Agent': 'python-requests/2.23.0', 'Accept-Encoding': 'gzip, deflate', 'Accept': '*/*', 'Connection': 'keep-alive'}\n",
      "{'Date': 'Thu, 09 Apr 2020 13:36:29 GMT', 'Server': 'Apache/2.4.29 (Ubuntu)', 'Vary': 'Accept-Encoding', 'Content-Encoding': 'gzip', 'Content-Length': '336', 'Keep-Alive': 'timeout=5, max=100', 'Connection': 'Keep-Alive', 'Content-Type': 'text/html; charset=UTF-8'}\n",
      "\n",
      "\n",
      "{'User-Agent': 'python-requests/2.23.0', 'Accept-Encoding': 'gzip, deflate', 'Accept': '*/*', 'Connection': 'keep-alive'}\n",
      "{'Date': 'Thu, 09 Apr 2020 13:36:29 GMT', 'Server': 'Apache/2.4.29 (Ubuntu)', 'Vary': 'Accept-Encoding', 'Content-Encoding': 'gzip', 'Content-Length': '308', 'Keep-Alive': 'timeout=5, max=100', 'Connection': 'Keep-Alive', 'Content-Type': 'text/html; charset=UTF-8'}\n",
      "\n",
      "\n"
     ]
    }
   ],
   "source": [
    "for i in ['hello','flag','index']:\n",
    "    r = requests.get('http://webhacking.kr:10001/?file='+i)\n",
    "    print(r.request.headers)\n",
    "    print(r.headers)\n",
    "    print('\\n')    "
   ]
  },
  {
   "cell_type": "markdown",
   "metadata": {},
   "source": [
    "헤더에도 별게 없어보인다."
   ]
  },
  {
   "cell_type": "markdown",
   "metadata": {},
   "source": [
    "![25-05](img/25-05.PNG)"
   ]
  },
  {
   "cell_type": "markdown",
   "metadata": {},
   "source": [
    "엄마야. 여긴어디야.<br>\n",
    "포트 바꾸는 것도 아닌 것 같다."
   ]
  },
  {
   "attachments": {},
   "cell_type": "markdown",
   "metadata": {},
   "source": [
    "![25-06](img/25-06.PNG)"
   ]
  },
  {
   "cell_type": "markdown",
   "metadata": {},
   "source": [
    "이것도 아무것도 안나오네."
   ]
  },
  {
   "cell_type": "markdown",
   "metadata": {},
   "source": [
    "FLAG is in the code라. 그 코드가 어디에 있습니까. 정말 불친절하시네요 (투덜투덜)<br>\n",
    "모르겠다. owasp zap의 스파이더 기능도 써봤는데 나오는게 없다."
   ]
  },
  {
   "cell_type": "markdown",
   "metadata": {},
   "source": [
    "# 포기"
   ]
  },
  {
   "cell_type": "markdown",
   "metadata": {},
   "source": [
    "쉽게 풀릴 줄 알았는데, 뭘 해야될지 모르겠다. 결국 구글링으로 풀이를 찾아봐야 할 것 같다.\n",
    "http://webhacking.kr:10001/?file=php://filter/convert.base64-encode/resource=flag 로 들어가면 flag.php파일을 base64인코딩한 문자열이 나온다고 한다. 그리고 디코딩시켜주면, Flag값을 볼 수 있다."
   ]
  },
  {
   "cell_type": "markdown",
   "metadata": {},
   "source": []
  },
  {
   "cell_type": "markdown",
   "metadata": {},
   "source": []
  },
  {
   "cell_type": "markdown",
   "metadata": {},
   "source": []
  },
  {
   "cell_type": "code",
   "execution_count": 26,
   "metadata": {},
   "outputs": [
    {
     "name": "stdout",
     "output_type": "stream",
     "text": [
      "b'<?php\\n  echo \"FLAG is in the code\";\\n  $flag = \"FLAG{this_is_your_first_flag}\";\\n?>\\n'\n"
     ]
    }
   ],
   "source": [
    "import base64\n",
    "print(base64.b64decode('PD9waHAKICBlY2hvICJGTEFHIGlzIGluIHRoZSBjb2RlIjsKICAkZmxhZyA9ICJGTEFHe3RoaXNfaXNfeW91cl9maXJzdF9mbGFnfSI7Cj8+Cg=='))"
   ]
  },
  {
   "cell_type": "markdown",
   "metadata": {},
   "source": [
    "![25-07](img/25-07.PNG)"
   ]
  },
  {
   "cell_type": "markdown",
   "metadata": {},
   "source": [
    "이는 PHP wrapper라는 기능을 사용한 것인데, 이는 원래 php개발을 돕기 위해서 만들어진 여러가지 기능들이다. 이중에서도 php://filter는 다양한 I/O스트림을 다루는데, 여기에 encode/decode옵션을 추가해서 서버 안에 존재하는 문서를 원본 그대로 열람할 수 있다고 한다."
   ]
  }
 ],
 "metadata": {
  "kernelspec": {
   "display_name": "Python 3.7.6 64-bit ('test1': conda)",
   "language": "python",
   "name": "python37664bittest1conda6096207d9ba848ecb47f4c96b52d76b2"
  },
  "language_info": {
   "codemirror_mode": {
    "name": "ipython",
    "version": 3
   },
   "file_extension": ".py",
   "mimetype": "text/x-python",
   "name": "python",
   "nbconvert_exporter": "python",
   "pygments_lexer": "ipython3",
   "version": "3.7.6"
  }
 },
 "nbformat": 4,
 "nbformat_minor": 4
}
