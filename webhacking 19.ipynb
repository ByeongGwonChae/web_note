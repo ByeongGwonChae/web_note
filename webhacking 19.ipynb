{
 "cells": [
  {
   "attachments": {},
   "cell_type": "markdown",
   "metadata": {},
   "source": [
    "# 문제"
   ]
  },
  {
   "cell_type": "markdown",
   "metadata": {},
   "source": [
    "![19-01](img/19-01.PNG)"
   ]
  },
  {
   "cell_type": "markdown",
   "metadata": {},
   "source": [
    "![19-02](img/19-02.PNG)"
   ]
  },
  {
   "cell_type": "markdown",
   "metadata": {},
   "source": [
    "내용이 너무 적은데. python으로 request를 보내보자."
   ]
  },
  {
   "cell_type": "code",
   "execution_count": 1,
   "metadata": {},
   "outputs": [],
   "source": [
    "import requests"
   ]
  },
  {
   "cell_type": "code",
   "execution_count": 2,
   "metadata": {},
   "outputs": [
    {
     "name": "stdout",
     "output_type": "stream",
     "text": [
      "200\n",
      "\n",
      "\n",
      "\n",
      "<html>\n",
      "<head>\n",
      "<title>Challenge 19</title>\n",
      "<style type=\"text/css\">\n",
      "body { background:black; color:white; font-size:10pt; }\n",
      "input { background:silver; color:black; font-size:9pt; }\n",
      "</style>\n",
      "</head>\n",
      "<body>\n",
      "you are not admin<meta http-equiv=refresh content=3;url=./>\n"
     ]
    }
   ],
   "source": [
    "with requests.Session() as s:\n",
    "    data = {'id':'new_ch','pw':'0123'}\n",
    "    statuscode = s.post('https://webhacking.kr/login.php/?login', data=data)\n",
    "    print(statuscode.status_code)\n",
    "    \n",
    "    print('\\n\\n')\n",
    "    \n",
    "    r = s.get('https://webhacking.kr/challenge/js-6/?id=admin')\n",
    "    print(r.text)"
   ]
  },
  {
   "cell_type": "markdown",
   "metadata": {},
   "source": [
    "따로 변한건 없는것 같다."
   ]
  },
  {
   "cell_type": "markdown",
   "metadata": {},
   "source": [
    "admin말고 임의의 값을 넣어보자."
   ]
  },
  {
   "cell_type": "markdown",
   "metadata": {},
   "source": [
    "![19-03](img/19-03.PNG)"
   ]
  },
  {
   "cell_type": "markdown",
   "metadata": {},
   "source": [
    "화면이 변했지만 여기도 크게 "
   ]
  },
  {
   "cell_type": "markdown",
   "metadata": {},
   "source": []
  },
  {
   "cell_type": "markdown",
   "metadata": {},
   "source": []
  }
 ],
 "metadata": {
  "kernelspec": {
   "display_name": "Python 3.7.6 64-bit ('test1': conda)",
   "language": "python",
   "name": "python37664bittest1conda6096207d9ba848ecb47f4c96b52d76b2"
  },
  "language_info": {
   "codemirror_mode": {
    "name": "ipython",
    "version": 3
   },
   "file_extension": ".py",
   "mimetype": "text/x-python",
   "name": "python",
   "nbconvert_exporter": "python",
   "pygments_lexer": "ipython3",
   "version": "3.7.6"
  }
 },
 "nbformat": 4,
 "nbformat_minor": 4
}
