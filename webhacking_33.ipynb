{
 "cells": [
  {
   "cell_type": "markdown",
   "metadata": {},
   "source": [
    "# 1단계"
   ]
  },
  {
   "cell_type": "markdown",
   "metadata": {},
   "source": [
    "URL 끝에 ?get=hehe 만 붙여주면 된다."
   ]
  },
  {
   "cell_type": "markdown",
   "metadata": {},
   "source": [
    "# 2단계"
   ]
  },
  {
   "cell_type": "markdown",
   "metadata": {},
   "source": [
    "POST방식으로 2개의 인자를 보내야하므로 python을 사용하도록 한다."
   ]
  },
  {
   "cell_type": "code",
   "execution_count": 1,
   "metadata": {},
   "outputs": [
    {
     "name": "stdout",
     "output_type": "stream",
     "text": [
      "<hr>\n",
      "Challenge 33-2<br>\n",
      "<a href=lv2.txt>view-source</a>\n",
      "<hr>\n",
      "<a href=33.php>Next</a>\n",
      "\n"
     ]
    }
   ],
   "source": [
    "import requests\n",
    "r = requests.post('https://webhacking.kr/challenge/bonus-6/lv2.php',data={'post':'hehe','post2':'hehe2'})\n",
    "print(r.text)"
   ]
  },
  {
   "cell_type": "markdown",
   "metadata": {},
   "source": [
    "URL 끝에 33.php 를 입력한다."
   ]
  },
  {
   "cell_type": "markdown",
   "metadata": {},
   "source": [
    "# 3단계"
   ]
  },
  {
   "cell_type": "markdown",
   "metadata": {},
   "source": [
    "myip인자에 내IP를 넣어서 GET방식으로 보내면 된다."
   ]
  },
  {
   "cell_type": "code",
   "execution_count": 12,
   "metadata": {},
   "outputs": [
    {
     "name": "stdout",
     "output_type": "stream",
     "text": [
      "<hr>\n",
      "Challenge 33-3<br>\n",
      "<a href=33.txt>view-source</a>\n",
      "<hr>\n",
      "Wrong\n",
      "\n"
     ]
    }
   ],
   "source": [
    "import socket\n",
    "import requests\n",
    "\n",
    "r = requests.get('https://webhacking.kr/challenge/bonus-6/33.php', params={'myip':socket.gethostbyname(socket.getfqdn())})\n",
    "print(r.text)"
   ]
  },
  {
   "cell_type": "markdown",
   "metadata": {},
   "source": [
    "보내면 될 터인데 왜인지 모르겠지만 vmware에 할당된 IP를 가져와서 자꾸 틀린다.<br>\n",
    "그냥 cmd창 키고 ipconfig로 IP 알아내서 직접 URL에 입력하기로 한다."
   ]
  },
  {
   "cell_type": "markdown",
   "metadata": {},
   "source": [
    "??? ipconfig랑 네이버에서 \"내 IP\"로 검색해서 나온 IP가 다르다??<br>\n",
    "아. 31번도 그렇고 왜 자꾸 IP관련해서 이상한게 많이 나오지.<br>\n",
    "네이버로 검색한 IP로 들어가니까 다음 문제로 넘어가지긴 한다.<br>\n",
    "아무래도 내 PC에 연결한 랜선으로 IP가 고정 할당된게 아니라, 자취방 건물에 공유기가 있고, 그 공유기가 NAT역할을 하는게 아닌가 싶기는 한데, 나중에 확실히 알아보긴 해야될거 같다."
   ]
  },
  {
   "cell_type": "markdown",
   "metadata": {},
   "source": [
    "# 4단계"
   ]
  },
  {
   "cell_type": "code",
   "execution_count": 41,
   "metadata": {},
   "outputs": [
    {
     "name": "stdout",
     "output_type": "stream",
     "text": [
      "b'1586500796'\n",
      "d3b666834c59e8b1cd60f076a8480661\n",
      "<hr>\n",
      "Challenge 33-4<br>\n",
      "<a href=l4.txt>view-source</a>\n",
      "<hr>\n",
      "hint : 1586500797\n",
      "\n"
     ]
    }
   ],
   "source": [
    "import time\n",
    "import hashlib\n",
    "import requests"
   ]
  },
  {
   "cell_type": "code",
   "execution_count": 82,
   "metadata": {},
   "outputs": [
    {
     "name": "stdout",
     "output_type": "stream",
     "text": [
      "b'1586502061'\n",
      "<hr>\n",
      "Challenge 33-4<br>\n",
      "<a href=l4.txt>view-source</a>\n",
      "<hr>\n",
      "hint : 1586502063\n",
      "\n"
     ]
    }
   ],
   "source": [
    "t = str(int(time.time())).encode()\n",
    "print(t)\n",
    "r = requests.get('https://webhacking.kr/challenge/bonus-6/l4.php?password='+hashlib.md5(t).hexdigest())\n",
    "print(r.text)"
   ]
  },
  {
   "cell_type": "markdown",
   "metadata": {},
   "source": [
    "뭐지 python이 너무 느린가. 2초씩 차이가 난다."
   ]
  },
  {
   "cell_type": "markdown",
   "metadata": {},
   "source": [
    "var lib = document.createElement('script');\n",
    "lib.src = \"//cdnjs.cloudflare.com/ajax/libs/blueimp-md5/2.10.0/js/md5.min.js\";\n",
    "document.getElementsByTagName('head')[0].appendChild(lib);\n",
    "\n",
    "location.href=\"https://webhacking.kr/challenge/bonus-6/l4.php?password=\"+md5(toString(parseInt(Date.now()/1000)))"
   ]
  },
  {
   "cell_type": "markdown",
   "metadata": {},
   "source": [
    "javascript로도 짜봤는데 안된다. 흠."
   ]
  },
  {
   "cell_type": "code",
   "execution_count": 92,
   "metadata": {},
   "outputs": [
    {
     "name": "stdout",
     "output_type": "stream",
     "text": [
      "b'1586502187'\n",
      "<hr>\n",
      "Challenge 33-4<br>\n",
      "<a href=l4.txt>view-source</a>\n",
      "<hr>\n",
      "<a href=md555.php>Next</a>\n",
      "\n"
     ]
    }
   ],
   "source": [
    "t = str(int(time.time())+2).encode()\n",
    "print(t)\n",
    "r = requests.get('https://webhacking.kr/challenge/bonus-6/l4.php?password='+hashlib.md5(t).hexdigest())\n",
    "print(r.text)"
   ]
  },
  {
   "cell_type": "markdown",
   "metadata": {},
   "source": [
    "오케이. 2초 늘려서 몇 번 도전하니까 정확히 들어갔다."
   ]
  },
  {
   "cell_type": "markdown",
   "metadata": {},
   "source": [
    "# 5단계"
   ]
  },
  {
   "cell_type": "markdown",
   "metadata": {},
   "source": [
    "한번에 GET,POST,COOKIE로 각각 인자를 넘겨주어야한다. 특정 값을 입력하라는게 없어서 값은 막 넣어줘도 될 것 같다."
   ]
  },
  {
   "cell_type": "code",
   "execution_count": 93,
   "metadata": {},
   "outputs": [],
   "source": [
    "import requests"
   ]
  },
  {
   "cell_type": "code",
   "execution_count": 98,
   "metadata": {},
   "outputs": [
    {
     "name": "stdout",
     "output_type": "stream",
     "text": [
      "<hr>\n",
      "Challenge 33-5<br>\n",
      "<a href=md555.txt>view-source</a>\n",
      "<hr>\n",
      "<a href=gpcc.php>Next</a>\n",
      "\n"
     ]
    }
   ],
   "source": [
    "r = requests.post('https://webhacking.kr/challenge/bonus-6/md555.php?imget=5',data={'impost':'5'}, cookies={'imcookie':'5'})\n",
    "print(r.text)"
   ]
  },
  {
   "cell_type": "markdown",
   "metadata": {},
   "source": [
    "# 6단계"
   ]
  },
  {
   "cell_type": "code",
   "execution_count": 99,
   "metadata": {},
   "outputs": [],
   "source": [
    "import requests\n",
    "import hashlib"
   ]
  },
  {
   "cell_type": "code",
   "execution_count": 106,
   "metadata": {},
   "outputs": [],
   "source": [
    "test = hashlib.md5('내 IP'.encode()).hexdigest()\n",
    "kk = hashlib.md5('python-requests/2.23.0'.encode()).hexdigest()"
   ]
  },
  {
   "cell_type": "code",
   "execution_count": 105,
   "metadata": {},
   "outputs": [
    {
     "name": "stdout",
     "output_type": "stream",
     "text": [
      "<hr>\n",
      "Challenge 33-6<br>\n",
      "<a href=gpcc.txt>view-source</a>\n",
      "<hr>\n",
      "<a href=wtff.php>Next</a>\n",
      "\n"
     ]
    }
   ],
   "source": [
    "r = requests.post('https://webhacking.kr/challenge/bonus-6/gpcc.php',data={'kk':kk}, cookies={'test':test})\n",
    "print(r.text)"
   ]
  },
  {
   "cell_type": "markdown",
   "metadata": {},
   "source": [
    "# 7단계"
   ]
  },
  {
   "cell_type": "code",
   "execution_count": 110,
   "metadata": {},
   "outputs": [
    {
     "name": "stdout",
     "output_type": "stream",
     "text": [
      "내 IP\n"
     ]
    }
   ],
   "source": [
    "encIP = '내 IP'.replace('.','')\n",
    "print(encIP)"
   ]
  },
  {
   "cell_type": "markdown",
   "metadata": {},
   "source": [
    "좀 꼬아놨긴 한데 위의 python출력을 인자의 이름과 값 둘 다 넣어줘야한다.<br>\n",
    "?encIP=encIP  이런 식으로 말이다."
   ]
  },
  {
   "cell_type": "code",
   "execution_count": 111,
   "metadata": {},
   "outputs": [
    {
     "name": "stdout",
     "output_type": "stream",
     "text": [
      "<hr>\n",
      "Challenge 33-7<br>\n",
      "<a href=wtff.txt>view-source</a>\n",
      "<hr>\n",
      "<a href=ipt.php>Next</a>\n",
      "\n"
     ]
    }
   ],
   "source": [
    "import requests\n",
    "r = requests.get('https://webhacking.kr/challenge/bonus-6/wtff.php?'+encIP+'='+encIP)\n",
    "print(r.text)"
   ]
  },
  {
   "cell_type": "markdown",
   "metadata": {},
   "source": [
    "# 8단계"
   ]
  },
  {
   "cell_type": "markdown",
   "metadata": {},
   "source": [
    "php코드를 요약하자면 이렇다.\n",
    "\n",
    "1. GET방식으로 넘어온 인자들을 각각의 변수들로 만들어 준다.\n",
    "2. GET방식으로 넘어온 인자 중에 addr인자가 없으면 자신의IP를 넣어서 addr변수를 새로 만들어준다.\n",
    "3. addr변수가 127.0.0.1이면 다음 문제로 넘어간다.\n",
    "\n",
    "그냥 ?addr=127.0.0.1 를 입력하면 된다."
   ]
  },
  {
   "cell_type": "markdown",
   "metadata": {},
   "source": [
    "# 9단계"
   ]
  },
  {
   "cell_type": "code",
   "execution_count": 114,
   "metadata": {},
   "outputs": [
    {
     "name": "stdout",
     "output_type": "stream",
     "text": [
      "acegikmoqsuwy\n"
     ]
    }
   ],
   "source": [
    "result = ''\n",
    "for i in range(97,123,2):\n",
    "    result += chr(i)\n",
    "print(result)"
   ]
  },
  {
   "cell_type": "markdown",
   "metadata": {},
   "source": [
    "다음 출력값을 ans인자에 넣어서 GET으로 보내면 된다."
   ]
  },
  {
   "cell_type": "markdown",
   "metadata": {},
   "source": [
    "# 10단계"
   ]
  },
  {
   "cell_type": "markdown",
   "metadata": {},
   "source": [
    "![33-01](img/33-01.PNG) "
   ]
  },
  {
   "cell_type": "markdown",
   "metadata": {},
   "source": [
    "일일히 python으로 만들기 귀찮아져서, 그냥 위의 사이트를 이용해서 ip와 answer 변수값을 구해준다.<br>\n",
    "그리고 answerip/{$answer}_{$ip}.php 경로로 입력해서 들어가면 33번 문제가 끝날 것이다."
   ]
  },
  {
   "cell_type": "markdown",
   "metadata": {},
   "source": [
    "![33-02](img/33-02.PNG)"
   ]
  }
 ],
 "metadata": {
  "kernelspec": {
   "display_name": "Python 3.7.6 64-bit ('test1': conda)",
   "language": "python",
   "name": "python37664bittest1conda6096207d9ba848ecb47f4c96b52d76b2"
  },
  "language_info": {
   "codemirror_mode": {
    "name": "ipython",
    "version": 3
   },
   "file_extension": ".py",
   "mimetype": "text/x-python",
   "name": "python",
   "nbconvert_exporter": "python",
   "pygments_lexer": "ipython3",
   "version": "3.7.6"
  }
 },
 "nbformat": 4,
 "nbformat_minor": 4
}
