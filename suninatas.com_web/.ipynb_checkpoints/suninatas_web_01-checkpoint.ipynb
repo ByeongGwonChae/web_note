{
 "cells": [
  {
   "cell_type": "markdown",
   "metadata": {},
   "source": [
    "# 문제"
   ]
  },
  {
   "attachments": {},
   "cell_type": "markdown",
   "metadata": {},
   "source": [
    "![01-01.PNG](img/01-01.PNG)"
   ]
  },
  {
   "cell_type": "markdown",
   "metadata": {},
   "source": [
    "코드가 <%로 시작하는걸보고 php랑은 다르다고 생각했는데, url을 보니 asp였다.\n",
    "\n",
    "asp는 다뤄본 적이 없지만 얼핏 봐도 php와 비슷한 걸 보고 다음과 같은 과정이라고 생각된다.\n",
    "\n",
    "1. str변수의 값을 입력받는다.\n",
    "1. str변수를 문자열 조작한다.\n",
    "1. 2의 결과가 admin이면 성공\n",
    "\n",
    "이 문제는 웹해킹이라기보다는 다음 문제들을 풀기 앞서서 asp구조와 문자열 조작에 대해서 공부하라는 내용으로 보인다."
   ]
  },
  {
   "cell_type": "markdown",
   "metadata": {},
   "source": [
    "# 풀이"
   ]
  },
  {
   "cell_type": "markdown",
   "metadata": {},
   "source": [
    "문제를 풀 때는 당연하다고 생각해서 보지도 않고 넘어갔었는데, 이 페이지의 단 하나의 input이 str변수를 넘기는 부분이었다.<br>따라서 문제를 풀 때는 특별한 방법을 사용하지 않고, 이 input에 값을 입력하기만 하면 된다."
   ]
  },
  {
   "cell_type": "markdown",
   "metadata": {},
   "source": [
    "asp를 써 본 적도 없고 현재 PC에 asp를 테스트할 수 있는 환경도 없어서, asp의 문자열 조작 함수들이 어떤 역할을 하는지를 구글링해서 javascript로 비슷하게 구현해봤다.\n",
    "\n",
    "|asp 함수를|javascript로 변환|\n",
    "|:---|:---|\n",
    "|Replace|replace|\n",
    "|Mid|substr|\n",
    "| & |concat|\n",
    "\n",
    "단, 변환할 문자열이 여러개일 경우, asp의 Replace 함수는 모두 변환하는데 javascript의 replace 함수는 처음 한 번만 변환한다는 차이점이 있다. 그래서 replace 함수를 그냥 사용하지 않고 다른 방법을 취했다.\n",
    "\n",
    "아래는 asp를 javascript로 구현한 코드이다."
   ]
  },
  {
   "cell_type": "markdown",
   "metadata": {},
   "source": [
    "![01-02.PNG](img/01-02.PNG)"
   ]
  },
  {
   "cell_type": "markdown",
   "metadata": {},
   "source": [
    "함수를 구현했으면, 다음은 여러가지 문자열을 넣어서 테스트를 할 차레다.\n",
    "\n",
    "맨 처음은 \"admin\"을 넣어봤다."
   ]
  },
  {
   "cell_type": "markdown",
   "metadata": {},
   "source": [
    "![01-03.PNG](img/01-03.PNG)"
   ]
  },
  {
   "cell_type": "markdown",
   "metadata": {},
   "source": [
    "결과는 \"addminn\"으로 처음과 크게 달라지지 않았다.\n",
    "\n",
    "result1는 최대 2글자만 들어갈 수 있고 result2는 최대 6글자가 들어갈 수 있으니,<br>result1에 \"ad\", result2에 \"min\"을 넣으면 될거라고 생각이 됐다.\n",
    "\n",
    "result1은 이미 ad로 목표가 달성됐으니, 다음은 result2의 맨 앞의 \"d\"를 제거하는 것을 목표로 햇다."
   ]
  },
  {
   "cell_type": "markdown",
   "metadata": {},
   "source": [
    "![01-04.PNG](img/01-04.PNG)"
   ]
  },
  {
   "cell_type": "markdown",
   "metadata": {},
   "source": [
    "이제 맨 뒤의 \"n\" 하나만 제거하면 될 것 같다."
   ]
  },
  {
   "cell_type": "markdown",
   "metadata": {},
   "source": [
    "![01-05.PNG](img/01-05.PNG)"
   ]
  },
  {
   "cell_type": "markdown",
   "metadata": {},
   "source": [
    "\"ami\"를 1번 문제에 입력하면,"
   ]
  },
  {
   "attachments": {},
   "cell_type": "markdown",
   "metadata": {},
   "source": [
    "![01-06.PNG](img/01-06.PNG)"
   ]
  },
  {
   "cell_type": "markdown",
   "metadata": {},
   "source": [
    "성공"
   ]
  }
 ],
 "metadata": {
  "kernelspec": {
   "display_name": "Python 3",
   "language": "python",
   "name": "python3"
  },
  "language_info": {
   "codemirror_mode": {
    "name": "ipython",
    "version": 3
   },
   "file_extension": ".py",
   "mimetype": "text/x-python",
   "name": "python",
   "nbconvert_exporter": "python",
   "pygments_lexer": "ipython3",
   "version": "3.7.6"
  }
 },
 "nbformat": 4,
 "nbformat_minor": 4
}
