{
 "cells": [
  {
   "cell_type": "markdown",
   "metadata": {},
   "source": [
    "# 문제"
   ]
  },
  {
   "cell_type": "markdown",
   "metadata": {},
   "source": [
    "![03-01.PNG](img/03-01.PNG)"
   ]
  },
  {
   "cell_type": "markdown",
   "metadata": {},
   "source": [
    "# 풀이"
   ]
  },
  {
   "cell_type": "markdown",
   "metadata": {},
   "source": [
    "첫 화면의 코드에는 별게 없어 보인다.\n",
    "\n",
    "Notice Board라는 곳에 글을 쓰라는 텍스트가 있긴 한데, 일단 Notice Board가 뭘 의미하는지 찾아봤다."
   ]
  },
  {
   "cell_type": "markdown",
   "metadata": {},
   "source": [
    "![03-02.PNG](img/03-02.PNG)"
   ]
  },
  {
   "cell_type": "markdown",
   "metadata": {},
   "source": [
    "대충 여기 같아 보인다. url에도 board랑 notice라는 문자가 들어가기도 했고."
   ]
  },
  {
   "cell_type": "markdown",
   "metadata": {},
   "source": [
    "근데 여기 코드를 봐도 딱히 눈에 띄는게 없다.<br>글쓰기 버튼도 안보이고, javascript쪽에 한 100줄 정도 코드도 살펴봤는데 전부 의미없는 코드였다."
   ]
  },
  {
   "cell_type": "markdown",
   "metadata": {},
   "source": [
    "![03-05.PNG](img/03-05.PNG)"
   ]
  },
  {
   "cell_type": "markdown",
   "metadata": {},
   "source": [
    "이 부분이 수상해서 1~2시간 살펴봤는데, 3번 문제랑은 관련이 없었고, 이 javascript코드는 다른 페이지들에서도 사용중인 코드였어서 이건 아니라고 판단이 났다."
   ]
  },
  {
   "cell_type": "markdown",
   "metadata": {},
   "source": [
    "그렇게 이곳저곳 찔러보던 중에 우연히 발견한 건데,"
   ]
  },
  {
   "cell_type": "markdown",
   "metadata": {},
   "source": [
    "![03-03.PNG](img/03-03.PNG)"
   ]
  },
  {
   "cell_type": "markdown",
   "metadata": {},
   "source": [
    "이런 페이지가 숨겨져 있었다.\n",
    "\n",
    "숨겨져 있던걸 발견한게 아니라, 처음 홈페이지를 만들 때, 끝에 /login, /register 같을 특정 페이지와 기능의 매칭을 알기 쉽게 만드는 경우가 많아서 대충 /write를 찍어본거다.\n",
    "\n",
    "아무튼 submit 버튼을 누르면 인증키가 나온다."
   ]
  },
  {
   "cell_type": "markdown",
   "metadata": {},
   "source": [
    "![03-04.PNG](img/03-04.PNG)"
   ]
  },
  {
   "cell_type": "markdown",
   "metadata": {},
   "source": [
    "실력이 아니라 운 같은 느낌이 있어서 좀 이상한 기분이 있었다. \n",
    "\n",
    "혹시 다른 풀이 방법이 있지 않았을까 싶기도 하다."
   ]
  }
 ],
 "metadata": {
  "kernelspec": {
   "display_name": "Python 3.7.6 64-bit ('test1': conda)",
   "language": "python",
   "name": "python37664bittest1conda6096207d9ba848ecb47f4c96b52d76b2"
  },
  "language_info": {
   "codemirror_mode": {
    "name": "ipython",
    "version": 3
   },
   "file_extension": ".py",
   "mimetype": "text/x-python",
   "name": "python",
   "nbconvert_exporter": "python",
   "pygments_lexer": "ipython3",
   "version": "3.7.6"
  }
 },
 "nbformat": 4,
 "nbformat_minor": 4
}
