{
 "cells": [
  {
   "cell_type": "markdown",
   "metadata": {},
   "source": [
    "# 문제"
   ]
  },
  {
   "attachments": {},
   "cell_type": "markdown",
   "metadata": {},
   "source": [
    "![04-01.PNG](img/04-01.PNG)"
   ]
  },
  {
   "cell_type": "markdown",
   "metadata": {},
   "source": [
    "버튼을 뉘르면 web04_ck.asp로 POST전송하고 다시 web04.asp로 돌아와서 input의 0이 1씩 늘어나고, 코드의 주석을 보면 0을 50으로 만들라는 힌트가 있다. (그 외에 & 'SuNiNaTaS' 라고 적혀있는데, 뭘 의미하는건지는 아직 잘 모르겠다.)\n",
    "\n",
    "근데 25까지 올라가면 다음과 같이 alert창이 뜨고 25이상은 올라가지 않는다."
   ]
  },
  {
   "cell_type": "markdown",
   "metadata": {},
   "source": [
    "![04-02.PNG](img/04-02.PNG)"
   ]
  },
  {
   "cell_type": "markdown",
   "metadata": {},
   "source": [
    "python으로 web04_ck.asp을 살펴봐도 별게 없었다."
   ]
  },
  {
   "cell_type": "code",
   "execution_count": 3,
   "metadata": {},
   "outputs": [],
   "source": [
    "import requests"
   ]
  },
  {
   "cell_type": "code",
   "execution_count": 10,
   "metadata": {},
   "outputs": [
    {
     "name": "stdout",
     "output_type": "stream",
     "text": [
      "\r\n",
      "<!DOCTYPE html>\r\n",
      "\r\n",
      "<html>\r\n",
      "<head>\r\n",
      "    <title>Game 04</title>\r\n",
      "    <meta http-equiv=\"Content-Type\" content=\"text/html; charset=utf-8\">\r\n",
      "    <link rel=\"shortcut icon\" href=\"/static/img/game.ico\" />\r\n",
      "</head>\r\n",
      "<body>\r\n",
      "    \r\n",
      "    <script>location.href=\"./web04.asp\";</script>\r\n",
      "    \r\n",
      "</body>\r\n",
      "</html>\r\n",
      "<!-- M@de By 2theT0P -->\r\n",
      "\n"
     ]
    }
   ],
   "source": [
    "r = requests.post('http://suninatas.com/challenge/web04/web04_ck.asp')\n",
    "print(r.text)"
   ]
  },
  {
   "cell_type": "markdown",
   "metadata": {},
   "source": [
    "결국 web04.asp 쪽에서 이것저것 해봐야 할 것 같다."
   ]
  },
  {
   "cell_type": "markdown",
   "metadata": {},
   "source": [
    "# 풀이"
   ]
  },
  {
   "cell_type": "markdown",
   "metadata": {},
   "source": [
    "이것저것 살펴본 결과는 다음과 같다.\n",
    "\n",
    "- point가 25이상에서 나타나는 alert창에 \"I like the SuNiNaTaS browsers!\"라고 나오는 문구가 있는데, 이건 아직 잘 모르겠다.\n",
    "- 4번 문제를 나갔다 들어와도 point가 25로 유지되는데, 쿠키나 세션을 사용하는 것 같다. 그런데 쿠키에는 별게 없어보여서 세션을 사용한 걸로 보인다.\n",
    "- User-Agent 라는 헤더의 값이 나와있는데, 현재 suninatas.com에 접속한 웹브라우저에 대한 정보가 적혀있다. 혹시 이 정보를 SuNiNaTas로 바꾸라는 건가?\n",
    "\n",
    "위와 같은 정보를 토대로 python으로 header변경 후 시도해봤다."
   ]
  },
  {
   "cell_type": "code",
   "execution_count": 28,
   "metadata": {},
   "outputs": [
    {
     "name": "stdout",
     "output_type": "stream",
     "text": [
      "200\n",
      "\n",
      "\n",
      "\n",
      "\r\n",
      "\r\n",
      "<!DOCTYPE html>\r\n",
      "\r\n",
      "<html>\r\n",
      "<head>\r\n",
      "    <title>Game 04</title>\r\n",
      "    <meta http-equiv=\"Content-Type\" content=\"text/html; charset=utf-8\">\r\n",
      "    <link rel=\"shortcut icon\" href=\"/static/img/game.ico\" />\r\n",
      "</head>\r\n",
      "<body>\r\n",
      "    <br>\r\n",
      "    <br>\r\n",
      "    <br>\r\n",
      "    <br>\r\n",
      "    <br>\r\n",
      "    <br>\r\n",
      "    <br>\r\n",
      "    <form method=\"post\" name=\"test\" action=\"./web04_ck.asp\">\r\n",
      "        <table width=\"240\" cellpadding=\"0\" cellspacing=\"0\" align=\"center\">\r\n",
      "            <tr height=\"30\">\r\n",
      "                <td colspan=\"2\" width=\"100%\" class=\"table_top\" align=\"right\">\r\n",
      "                    <input type=\"button\" name=\"main_btn\" value=\"main\" style=\"width: 60\" onclick=\"location.href = '/'\">&nbsp<input type=\"button\" name=\"main_btn\" value=\"Back\" style=\"width: 60\" onclick=\"history.back()\"></td>\r\n",
      "            </tr>\r\n",
      "            <tr height=\"30\" class=\"table_main\">\r\n",
      "                <td width=\"120\" align=\"center\" bgcolor=\"cccccc\"><font size=\"2\"><b>Point</b></font></td>\r\n",
      "                <td width=\"120\" align=\"center\" bgcolor=\"cccccc\">\r\n",
      "                    <input type=\"text\" name=\"total\" value=\"0\" size=\"16\"></td>\r\n",
      "            </tr>\r\n",
      "            <tr height=\"30\">\r\n",
      "                <td colspan=\"2\" align=\"center\" class=\"table_top\" bgcolor=\"cccccc\">\r\n",
      "                    <input type=\"button\" name=\"plus_btn\" value=\"Plus\" class=\"btn_check\" style=\"width: 70\" onclick=\"submit()\">\r\n",
      "            </tr>\r\n",
      "        </table>\r\n",
      "        <br>\r\n",
      "        <br>\r\n",
      "        <table width=\"1000\" cellpadding=\"0\" cellspacing=\"0\" align=\"center\">\r\n",
      "            <tr height=\"30\">\r\n",
      "                <td class=\"table_top\"><font size=\"2\"><b>User-Agent</b></font></td>\r\n",
      "                <td class=\"table_top\">SuNiNaTaS browser</td>\r\n",
      "            </tr>\r\n",
      "            <tr height=\"30\">\r\n",
      "                <td class=\"table_top\"><font size=\"2\"><b>Auth key</b></font></td>\r\n",
      "                <td class=\"table_top\">?????</td>\r\n",
      "            </tr>\r\n",
      "        </table>\r\n",
      "    </form>\r\n",
      "</body>\r\n",
      "</html>\r\n",
      "<!-- Hint : Make your point to 50 & 'SuNiNaTaS' -->\r\n",
      "<!-- M@de by 2theT0P -->\r\n",
      "\n",
      "{'User-Agent': 'SuNiNaTaS browser', 'Accept-Encoding': 'gzip, deflate', 'Accept': '*/*', 'Connection': 'keep-alive', 'Cookie': 'ASP.NET_SessionId=fjdlt4zyhiez34emuv3ipt5h; ASPSESSIONIDCSQBQDDS=HJAPEJPCEBMNLEMBCALMCHAH', 'Content-Length': '0'}\n"
     ]
    }
   ],
   "source": [
    "with requests.Session() as s:\n",
    "    data = {'id':'new_ch','pw':'0123'}\n",
    "    statuscode = s.post('http://suninatas.com/account/login', data=data)\n",
    "    print(statuscode.status_code)\n",
    "    \n",
    "    print('\\n\\n')\n",
    "    \n",
    "    r = s.post('http://suninatas.com/challenge/web04/web04.asp', headers={'User-Agent':'SuNiNaTaS browser'})\n",
    "    r = s.post('http://suninatas.com/challenge/web04/web04.asp', headers={'User-Agent':'SuNiNaTaS browser'})\n",
    "    #print(r.request.headers)\n",
    "    print(r.text)"
   ]
  },
  {
   "cell_type": "code",
   "execution_count": 22,
   "metadata": {},
   "outputs": [],
   "source": [
    "그냥 python은 무리고 chromium를 쓰면 될 것 같은데, 헤더 변경하는 방법을 모르겠어서 그냥 헤더를 변경할 수 있는 크롬 확장 프로그램 찾아서 쓰기로 했다."
   ]
  },
  {
   "cell_type": "markdown",
   "metadata": {},
   "source": [
    "![04-03.PNG](img/04-03.PNG)"
   ]
  },
  {
   "cell_type": "markdown",
   "metadata": {},
   "source": [
    "![04-04.PNG](img/04-04.PNG)"
   ]
  },
  {
   "cell_type": "markdown",
   "metadata": {},
   "source": [
    "![04-05.PNG](img/04-05.PNG)"
   ]
  },
  {
   "cell_type": "markdown",
   "metadata": {},
   "source": [
    "25를 넘었는데, 잘 넘어간다.\n",
    "\n",
    "이대로 50까지 버튼을 눌러보자."
   ]
  },
  {
   "cell_type": "markdown",
   "metadata": {},
   "source": [
    "![04-06.PNG](img/04-06.PNG)"
   ]
  },
  {
   "cell_type": "markdown",
   "metadata": {},
   "source": [
    "성공"
   ]
  }
 ],
 "metadata": {
  "kernelspec": {
   "display_name": "Python 3.7.6 64-bit ('test1': conda)",
   "language": "python",
   "name": "python37664bittest1conda6096207d9ba848ecb47f4c96b52d76b2"
  },
  "language_info": {
   "codemirror_mode": {
    "name": "ipython",
    "version": 3
   },
   "file_extension": ".py",
   "mimetype": "text/x-python",
   "name": "python",
   "nbconvert_exporter": "python",
   "pygments_lexer": "ipython3",
   "version": "3.7.6"
  }
 },
 "nbformat": 4,
 "nbformat_minor": 4
}
