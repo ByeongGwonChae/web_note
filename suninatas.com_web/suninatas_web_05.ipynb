{
 "cells": [
  {
   "cell_type": "markdown",
   "metadata": {},
   "source": [
    "# 문제"
   ]
  },
  {
   "attachments": {},
   "cell_type": "markdown",
   "metadata": {},
   "source": [
    "![05-01.PNG](img/05-01.PNG)"
   ]
  },
  {
   "cell_type": "markdown",
   "metadata": {},
   "source": [
    "이 문제에서 눈여겨 봐야할 건 2가지이다.\n",
    "\n",
    "- `eval(function(p,a,c,k,e,r){···` 로 시작하는 javascript\n",
    "- 주석의 Hint"
   ]
  },
  {
   "cell_type": "markdown",
   "metadata": {},
   "source": [
    "# 풀이"
   ]
  },
  {
   "cell_type": "markdown",
   "metadata": {},
   "source": [
    "우선 javascript부터 살펴보자"
   ]
  },
  {
   "cell_type": "markdown",
   "metadata": {},
   "source": [
    "`eval()`은 문자열을 명령어로 바꿔주는 함수이다. 그러니 `eval()`안에 있는 `function(p,a,c,k,e,r){}` 는 결과적으로 문자열을 출력하는 함수라고 볼 수 있다."
   ]
  },
  {
   "cell_type": "markdown",
   "metadata": {},
   "source": [
    "문제의 함수는 어려워 보이니 간단하게 만들어보면 다음과 같다."
   ]
  },
  {
   "cell_type": "markdown",
   "metadata": {},
   "source": [
    "![05-02.PNG](img/05-02.PNG)"
   ]
  },
  {
   "cell_type": "markdown",
   "metadata": {},
   "source": [
    "본 문제에서는 return된 문자열이 `eval()`에 입력되는 형식인데, 어떤 문자열인지 알고 싶으면 return 앞에 `console.log`만 잘 써주면 된다. "
   ]
  },
  {
   "cell_type": "markdown",
   "metadata": {},
   "source": [
    "![05-03.PNG](img/05-03.PNG)"
   ]
  },
  {
   "cell_type": "markdown",
   "metadata": {},
   "source": [
    "![05-04.PNG](img/05-04.PNG)"
   ]
  },
  {
   "cell_type": "markdown",
   "metadata": {},
   "source": [
    "`PASS(n)`라는 함수가 숨겨져 있었다. 이 함수가 무슨 일을 하는지는 살펴보진 않았지만, n파라미터랑 digit변수명 같은걸 보면 숫자 조작인걸로 보인다. \n",
    "\n",
    "Hint의 숫자를 입력해보면, 다음과 같은 문자열이 출력되는데......"
   ]
  },
  {
   "cell_type": "markdown",
   "metadata": {},
   "source": [
    "![05-05.PNG](img/05-05.PNG)"
   ]
  },
  {
   "cell_type": "markdown",
   "metadata": {},
   "source": [
    "이 값을 input에 넣으면 인증키가 나온다."
   ]
  },
  {
   "cell_type": "markdown",
   "metadata": {},
   "source": [
    "![05-06.PNG](img/05-06.PNG)"
   ]
  },
  {
   "cell_type": "markdown",
   "metadata": {},
   "source": [
    "# 기타"
   ]
  },
  {
   "cell_type": "markdown",
   "metadata": {},
   "source": [
    "`eval(function(p,a,c,k,e,r)` 를 구글링해보니까 유명한 형태였던것 같다.\n",
    "\n",
    "- Dean Edwards의 javascript 패킹 코드\n",
    "- 압축, 패킹, 난독화 등 의 기능\n",
    "\n",
    "이라고 나오는데, 솔직히 어디다 쓰이는지 잘 모르겠다. 패커는 리버싱할 때 나온다는건 알고있느데, 그걸 굳이javascript로 구현해야하는지를 말이다."
   ]
  },
  {
   "cell_type": "markdown",
   "metadata": {},
   "source": [
    "그래서 이 코드가 실제로 무슨일을 하는지 궁금해서 한 번 분석해봤던걸 적어보려고 한다."
   ]
  },
  {
   "cell_type": "markdown",
   "metadata": {},
   "source": [
    "파라미터 `p,a,c,k,e,r`는 각각 다음과 같은 역할로 보인다.\n",
    "\n",
    "|파라미터|의미|\n",
    "|:---|:---|\n",
    "|p|원본 문자열|\n",
    "|a|k배열의 원소 개수. 상수용|\n",
    "|c|k배열의 원소 개수. 변수용|\n",
    "|k|배열로 초기화. 마치 printf처럼, 원본 문자열에서 특정 부분을 지정된 배열 요소로 변환한다.<br>중간부터 r을 출력하는 함수로 변한다.|\n",
    "|e|0으로 초기화. 10진수를 a진수로 변환하는 함수가 된다.(여기서는 34진수)|\n",
    "|r|{}으로 초기화. k배열을 json형식으로 변경한 값이 들어감.|"
   ]
  },
  {
   "cell_type": "markdown",
   "metadata": {},
   "source": [
    "라고 적어놨지만, 한 파라미터가 중간에 역할이 바뀌기도 하고 그래서 정확하지는 않다. 코드를 알아보기 힘들게 만들어놔서 분석하기 어려웠는데, 대충 주석을 달아보면 다음과 같은 역할들을 한다."
   ]
  },
  {
   "cell_type": "markdown",
   "metadata": {},
   "source": [
    "![05-07.PNG](img/05-07.PNG)"
   ]
  },
  {
   "cell_type": "markdown",
   "metadata": {},
   "source": [
    "가장 알기 힘들었던게 `p.replace()`였는데, 이걸 조금 간단히 풀어보면<br>`p=p.replace(/\\b\\w+\\b/g, function(e){return r[e]})` 가 된다."
   ]
  },
  {
   "cell_type": "markdown",
   "metadata": {},
   "source": [
    "정규식은 1개 이상의 영어 대문자/소문자/숫자 만으로 이루어진 문자열을 의미한다.\n",
    "<br>\n",
    "replace함수에는 함수가 파라미터로 들어갈 수 있는데, 그럴 경우 정규식의 문자열이 함수에 파라미터로 입력된다.\n",
    "<br>\n",
    "예를 들어, 만약 `/\\b\\w+\\b/g` 정규식이 \"g\" 문자열을 잡으면, `function(\"g\") {return r[\"g\"]}`라는 함수가 실행되는 것과 같다.\n",
    "<br>\n",
    "그리고 이 함수의 return값으로 `replace(정규식,return값)`가 실행된다."
   ]
  }
 ],
 "metadata": {
  "kernelspec": {
   "display_name": "Python 3.7.6 64-bit ('test1': conda)",
   "language": "python",
   "name": "python37664bittest1conda6096207d9ba848ecb47f4c96b52d76b2"
  },
  "language_info": {
   "codemirror_mode": {
    "name": "ipython",
    "version": 3
   },
   "file_extension": ".py",
   "mimetype": "text/x-python",
   "name": "python",
   "nbconvert_exporter": "python",
   "pygments_lexer": "ipython3",
   "version": "3.7.6"
  }
 },
 "nbformat": 4,
 "nbformat_minor": 4
}
