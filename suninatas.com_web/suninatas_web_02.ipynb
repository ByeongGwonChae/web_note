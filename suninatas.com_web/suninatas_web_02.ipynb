{
 "cells": [
  {
   "cell_type": "markdown",
   "metadata": {},
   "source": [
    "# 문제"
   ]
  },
  {
   "attachments": {},
   "cell_type": "markdown",
   "metadata": {},
   "source": [
    "![02-01.PNG](img/02-01.PNG)"
   ]
  },
  {
   "cell_type": "markdown",
   "metadata": {},
   "source": [
    "input이 2개 있고, 각각의 변수명이 id와 pw다. 특징으로는 javascript로 id!=pw 이어야 넘기는 함수가 있고, 주석으로 id==pw인채로 넘기라는 힌트가 있다.\n",
    "\n",
    "즉, chk_form()에서 id!=pw인지 확인하는 부분을 우회(?)하라는 문제이다."
   ]
  },
  {
   "cell_type": "markdown",
   "metadata": {},
   "source": [
    "# 문제"
   ]
  },
  {
   "cell_type": "markdown",
   "metadata": {},
   "source": [
    "방법은 2가지가 생각된다.\n",
    "\n",
    "1. python 등의 방법으로 POST Request 메시지를 날린다.\n",
    "\n",
    "이 방법으로는 chk_form() 함수가 실행될 일이 없으니, id==pw 인 상태로 입력이 될 것이다.<br>그러나 2번째 방법이 간단해 보여서 이 방법은 다음 기회에......\n",
    "\n",
    "2. chk_form() 함수를 수정한다.\n",
    "\n",
    "프론트엔드 언어인 javascript로 만든 함수는 클라이언트측에서 수정이 가능하다.<br>크롬 개발자도구에서 chk_form() 함수를 다음과 같이 변경한다."
   ]
  },
  {
   "cell_type": "markdown",
   "metadata": {},
   "source": [
    "![02-02.PNG](img/02-02.PNG)"
   ]
  },
  {
   "cell_type": "markdown",
   "metadata": {},
   "source": [
    "그리고 id와 pw를 동일한 값(여기서는 \"a\"만 입력했다)을 채운다음, console탭에서 chk_form()를 실행시키면"
   ]
  },
  {
   "cell_type": "markdown",
   "metadata": {},
   "source": [
    "![02-03.PNG](img/02-03.PNG)"
   ]
  },
  {
   "cell_type": "markdown",
   "metadata": {},
   "source": [
    "Authkey에 키 값이 나온다."
   ]
  },
  {
   "cell_type": "markdown",
   "metadata": {},
   "source": [
    "![02-04.PNG](img/02-04.PNG)"
   ]
  }
 ],
 "metadata": {
  "kernelspec": {
   "display_name": "Python 3.7.6 64-bit ('test1': conda)",
   "language": "python",
   "name": "python37664bittest1conda6096207d9ba848ecb47f4c96b52d76b2"
  },
  "language_info": {
   "codemirror_mode": {
    "name": "ipython",
    "version": 3
   },
   "file_extension": ".py",
   "mimetype": "text/x-python",
   "name": "python",
   "nbconvert_exporter": "python",
   "pygments_lexer": "ipython3",
   "version": "3.7.6"
  }
 },
 "nbformat": 4,
 "nbformat_minor": 4
}
