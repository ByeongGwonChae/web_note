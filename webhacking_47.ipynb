{
 "cells": [
  {
   "cell_type": "markdown",
   "metadata": {},
   "source": [
    "# 문제"
   ]
  },
  {
   "cell_type": "markdown",
   "metadata": {},
   "source": [
    "![47-01](img/47-01.PNG)"
   ]
  },
  {
   "cell_type": "markdown",
   "metadata": {},
   "source": [
    "버튼을 누르면"
   ]
  },
  {
   "cell_type": "markdown",
   "metadata": {},
   "source": [
    "![47-02](img/47-02.PNG)"
   ]
  },
  {
   "cell_type": "markdown",
   "metadata": {},
   "source": [
    "흠. 인터레스팅."
   ]
  },
  {
   "cell_type": "markdown",
   "metadata": {},
   "source": [
    "EHLO 구글링해봤는데 아무래도 STMP인거 같다."
   ]
  },
  {
   "cell_type": "markdown",
   "metadata": {},
   "source": [
    "input값은 몇 번 바꿔봤지만 중간에 있는 \"Subject: Flag of wehb....\" 가 변하지 않는다."
   ]
  },
  {
   "cell_type": "markdown",
   "metadata": {},
   "source": [
    "반대로 Message-ID는 계속 바뀌는데, 이건 세션값, 고유값 뭐 그런거 같다. 신경 안써도 될 것 같다."
   ]
  },
  {
   "cell_type": "markdown",
   "metadata": {},
   "source": [
    "가장 중요한 발신자와 수신자가 있는데 이 둘을 중점으로 살펴보면 될 것 같다."
   ]
  },
  {
   "cell_type": "markdown",
   "metadata": {},
   "source": [
    "# 풀이"
   ]
  },
  {
   "cell_type": "markdown",
   "metadata": {},
   "source": [
    "물론 smtp를 다뤄본적이 없어서 어떻게 해야할지 개념조차 잡지 못하겠다.<br>\n",
    "no-existed@webhcking.kr을 직접 들어가서 확인하는 방법도 모르겠는데, 들어갈려면 분명 비밀번호가 필요할 거다.<br>\n",
    "스니핑이 가능한가도 생각해봤는데, 일단 내가 기술이 없는 것도 있고, 웹해킹이라는 범위에서 벗어나는거 같기에 이것도 아닌 것 같다."
   ]
  },
  {
   "cell_type": "markdown",
   "metadata": {},
   "source": [
    "# 포기"
   ]
  },
  {
   "cell_type": "markdown",
   "metadata": {},
   "source": [
    "아무래도 input값은 변경 가능한거 같다..."
   ]
  },
  {
   "cell_type": "markdown",
   "metadata": {},
   "source": [
    "다음과 같은 공격이 가능하다.\n",
    "\n",
    "1. 크롬 개발자도구에서 input태그를 textarea태그로 변경한다.\n",
    "2. textarea에 다음 값을 입력해준다: 아무값<개행문자>Cc: myemail@email.com"
   ]
  },
  {
   "cell_type": "markdown",
   "metadata": {},
   "source": [
    "이런 공격을 Mail Header Injection 기법이라고 한다는데, Cc는 참조를 뜻한다고 한다. 즉, no-reply가 보낸 메일을 no-existed뿐만 아니라 나도 받을 수 있는 것이다.<br>\n",
    "실제로 메일로 FLAG값이 보내졌다."
   ]
  },
  {
   "cell_type": "markdown",
   "metadata": {},
   "source": [
    "![47-03](img/47-03.PNG)"
   ]
  }
 ],
 "metadata": {
  "kernelspec": {
   "display_name": "Python 3.7.6 64-bit ('test1': conda)",
   "language": "python",
   "name": "python37664bittest1conda6096207d9ba848ecb47f4c96b52d76b2"
  },
  "language_info": {
   "codemirror_mode": {
    "name": "ipython",
    "version": 3
   },
   "file_extension": ".py",
   "mimetype": "text/x-python",
   "name": "python",
   "nbconvert_exporter": "python",
   "pygments_lexer": "ipython3",
   "version": "3.7.6"
  }
 },
 "nbformat": 4,
 "nbformat_minor": 4
}
