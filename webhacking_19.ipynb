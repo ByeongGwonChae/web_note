{
 "cells": [
  {
   "attachments": {},
   "cell_type": "markdown",
   "metadata": {},
   "source": [
    "# 문제"
   ]
  },
  {
   "cell_type": "markdown",
   "metadata": {},
   "source": [
    "![19-01](img/19-01.PNG)"
   ]
  },
  {
   "cell_type": "markdown",
   "metadata": {},
   "source": [
    "![19-02](img/19-02.PNG)"
   ]
  },
  {
   "cell_type": "markdown",
   "metadata": {},
   "source": [
    "정보가 너무 적다. python으로 request를 보내보자."
   ]
  },
  {
   "cell_type": "code",
   "execution_count": 1,
   "metadata": {},
   "outputs": [],
   "source": [
    "import requests"
   ]
  },
  {
   "cell_type": "code",
   "execution_count": 2,
   "metadata": {},
   "outputs": [
    {
     "name": "stdout",
     "output_type": "stream",
     "text": [
      "200\n",
      "\n",
      "\n",
      "\n",
      "<html>\n",
      "<head>\n",
      "<title>Challenge 19</title>\n",
      "<style type=\"text/css\">\n",
      "body { background:black; color:white; font-size:10pt; }\n",
      "input { background:silver; color:black; font-size:9pt; }\n",
      "</style>\n",
      "</head>\n",
      "<body>\n",
      "you are not admin<meta http-equiv=refresh content=3;url=./>\n"
     ]
    }
   ],
   "source": [
    "with requests.Session() as s:\n",
    "    data = {'id':'new_ch','pw':'0123'}\n",
    "    statuscode = s.post('https://webhacking.kr/login.php/?login', data=data)\n",
    "    print(statuscode.status_code)\n",
    "    \n",
    "    print('\\n\\n')\n",
    "    \n",
    "    r = s.get('https://webhacking.kr/challenge/js-6/?id=admin')\n",
    "    print(r.text)"
   ]
  },
  {
   "cell_type": "markdown",
   "metadata": {},
   "source": [
    "python으로도 딱히 얻을게 없는 것 같다."
   ]
  },
  {
   "cell_type": "markdown",
   "metadata": {},
   "source": [
    "admin말고 임의의 값을 넣어보자."
   ]
  },
  {
   "cell_type": "markdown",
   "metadata": {},
   "source": [
    "![19-03](img/19-03.PNG)"
   ]
  },
  {
   "cell_type": "markdown",
   "metadata": {},
   "source": [
    "화면이 변했지만 여기도 크게 볼건 없어 보인다.\n",
    "다음은 ?logout=1을 확인해보자"
   ]
  },
  {
   "cell_type": "code",
   "execution_count": 5,
   "metadata": {},
   "outputs": [
    {
     "name": "stdout",
     "output_type": "stream",
     "text": [
      "200\n",
      "\n",
      "\n",
      "\n",
      "<meta http-equiv=refresh content=0;url=./>\n"
     ]
    }
   ],
   "source": [
    "with requests.Session() as s:\n",
    "    data = {'id':'new_ch','pw':'0123'}\n",
    "    statuscode = s.post('https://webhacking.kr/login.php/?login', data=data)\n",
    "    print(statuscode.status_code)\n",
    "    \n",
    "    print('\\n\\n')\n",
    "    \n",
    "    r = s.get('https://webhacking.kr/challenge/js-6/?logout=1')\n",
    "    print(r.text)"
   ]
  },
  {
   "cell_type": "markdown",
   "metadata": {},
   "source": [
    "다시 처음으로 돌아간다. 그럼 logout을 1이 아닌 값을 넣어보자."
   ]
  },
  {
   "cell_type": "code",
   "execution_count": 13,
   "metadata": {},
   "outputs": [
    {
     "name": "stdout",
     "output_type": "stream",
     "text": [
      "200\n",
      "\n",
      "\n",
      "\n",
      "0 <html>\n",
      "<head>\n",
      "<title>Challenge 19</title>\n",
      "<style type=\"text/css\">\n",
      "body { background:black; color:white; font-size:10pt; }\n",
      "input { background:silver; color:black; font-size:9pt; }\n",
      "</style>\n",
      "</head>\n",
      "<body>\n",
      "<form>\n",
      "id : <input type=text name=id value='admin' maxlength=5 size=5>\n",
      "<input type=submit>\n",
      "</form>\n",
      "</body>\n",
      "</html>\n",
      "\n",
      "1 <meta http-equiv=refresh content=0;url=./>\n",
      "2 <html>\n",
      "<head>\n",
      "<title>Challenge 19</title>\n",
      "<style type=\"text/css\">\n",
      "body { background:black; color:white; font-size:10pt; }\n",
      "input { background:silver; color:black; font-size:9pt; }\n",
      "</style>\n",
      "</head>\n",
      "<body>\n",
      "<form>\n",
      "id : <input type=text name=id value='admin' maxlength=5 size=5>\n",
      "<input type=submit>\n",
      "</form>\n",
      "</body>\n",
      "</html>\n",
      "\n"
     ]
    }
   ],
   "source": [
    "with requests.Session() as s:\n",
    "    data = {'id':'new_ch','pw':'0123'}\n",
    "    statuscode = s.post('https://webhacking.kr/login.php/?login', data=data)\n",
    "    print(statuscode.status_code)\n",
    "    \n",
    "    print('\\n\\n')\n",
    "    for i in range(0,3):\n",
    "        r = s.get('https://webhacking.kr/challenge/js-6/?logout='+str(i))\n",
    "        print(i, r.text)"
   ]
  },
  {
   "cell_type": "markdown",
   "metadata": {},
   "source": [
    "?logout=1은 별 상관이 없는거 같다."
   ]
  },
  {
   "cell_type": "markdown",
   "metadata": {},
   "source": [
    "크롬-개발자도구-Application-Cookies 에서 임의로 접속한 후 만들어진 userid쿠키를 삭제해서 세션을 끊고 다시 메인 화면으로 돌아오자."
   ]
  },
  {
   "cell_type": "markdown",
   "metadata": {},
   "source": [
    "흠. 그 다음에 눈에 띄는게 input값에 maxlength속성인데, 이것때문에 input에 5글자밖에 안들어간다."
   ]
  },
  {
   "cell_type": "markdown",
   "metadata": {},
   "source": [
    "![19-04](img/19-04.PNG)"
   ]
  },
  {
   "cell_type": "markdown",
   "metadata": {},
   "source": [
    "이걸 늘려서 5글자 이상을 입력하라는 건거 싶다."
   ]
  },
  {
   "cell_type": "markdown",
   "metadata": {},
   "source": [
    "![19-05](img/19-05.PNG)"
   ]
  },
  {
   "cell_type": "markdown",
   "metadata": {},
   "source": [
    "입력 가능한 input이 주어지고, 이 값을 토대로 로그인하는 기능이라. SQL인젝션인가. 아직 뭘해야하는건지 감이 잡히질 않으니까 하나씩 해보자. 일던 admin'# 부터."
   ]
  },
  {
   "cell_type": "markdown",
   "metadata": {},
   "source": [
    "![19-06](img/19-06.PNG)"
   ]
  },
  {
   "cell_type": "markdown",
   "metadata": {},
   "source": [
    "뭔데."
   ]
  },
  {
   "cell_type": "markdown",
   "metadata": {},
   "source": [
    "# 기타"
   ]
  },
  {
   "cell_type": "markdown",
   "metadata": {},
   "source": [
    "문제를 풀긴 했는데 왜 풀렸는지를 모르겠다. 조금 더 살펴보자."
   ]
  },
  {
   "cell_type": "markdown",
   "metadata": {},
   "source": [
    "주석(#)에 뭔가 있었던거 같다. 이번엔 #만 넣어보자"
   ]
  },
  {
   "cell_type": "markdown",
   "metadata": {},
   "source": []
  },
  {
   "cell_type": "markdown",
   "metadata": {},
   "source": []
  },
  {
   "cell_type": "markdown",
   "metadata": {},
   "source": []
  }
 ],
 "metadata": {
  "kernelspec": {
   "display_name": "Python 3.7.6 64-bit ('test1': conda)",
   "language": "python",
   "name": "python37664bittest1conda6096207d9ba848ecb47f4c96b52d76b2"
  },
  "language_info": {
   "codemirror_mode": {
    "name": "ipython",
    "version": 3
   },
   "file_extension": ".py",
   "mimetype": "text/x-python",
   "name": "python",
   "nbconvert_exporter": "python",
   "pygments_lexer": "ipython3",
   "version": "3.7.6"
  }
 },
 "nbformat": 4,
 "nbformat_minor": 4
}
